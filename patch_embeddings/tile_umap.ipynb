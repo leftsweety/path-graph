{
 "cells": [
  {
   "cell_type": "code",
   "execution_count": 1,
   "metadata": {},
   "outputs": [
    {
     "name": "stderr",
     "output_type": "stream",
     "text": [
      "/home/lizx43/anaconda3/envs/gigapath/lib/python3.9/site-packages/pandas/core/computation/expressions.py:21: UserWarning: Pandas requires version '2.8.4' or newer of 'numexpr' (version '2.7.3' currently installed).\n",
      "  from pandas.core.computation.check import NUMEXPR_INSTALLED\n"
     ]
    }
   ],
   "source": [
    "import torch\n",
    "import pandas as pd\n",
    "import numpy as np\n",
    "import umap\n",
    "import matplotlib.pyplot as plt\n",
    "import glob"
   ]
  },
  {
   "cell_type": "code",
   "execution_count": 2,
   "metadata": {},
   "outputs": [],
   "source": [
    "slides_id_df = pd.read_csv('../get_data/data_sheets/image_id_res.csv')\n",
    "image_ids = list(slides_id_df.images_id)"
   ]
  },
  {
   "cell_type": "code",
   "execution_count": 3,
   "metadata": {},
   "outputs": [],
   "source": [
    "import sys\n",
    "sys.path.append('..')\n",
    "\n",
    "from utils.slide_utils import match_label\n",
    "\n",
    "def concate_slide_Embeddings(pt_file_path, file_name):\n",
    "    pt_files = glob.glob(pt_file_path+'*_slide_tensor.pt')\n",
    "    embeddings = []\n",
    "    ids = []\n",
    "\n",
    "    # Merge embeddings with labels based on image_id\n",
    "    drug_response = []\n",
    "    data_source = []\n",
    "    for pt_file in pt_files:\n",
    "        id=pt_file.split('_')[0].split(pt_file_path)[1]\n",
    "        if int(id) in image_ids:\n",
    "            data = torch.load(pt_file)\n",
    "            slide_embeds = data['last_layer_embed'][0]\n",
    "            embeddings.append(slide_embeds.numpy())\n",
    "            ids.append(id)\n",
    "            mat_id_df = slides_id_df[slides_id_df['images_id']==int(id)]\n",
    "            drug_response.append(match_label(list(mat_id_df.ORR)[0]))\n",
    "            data_source.append(list(mat_id_df.cancer)[0])\n",
    "    embeddings_df = pd.DataFrame(embeddings)\n",
    "    embeddings_df['ids'] = ids\n",
    "    embeddings_df['drug_response']=drug_response\n",
    "    embeddings_df['data_source']=data_source\n",
    "    embeddings_df.to_hdf(file_name, key='df', mode='w')"
   ]
  },
  {
   "cell_type": "code",
   "execution_count": 4,
   "metadata": {},
   "outputs": [],
   "source": [
    "# Concat all the patch encoding to one H5 file\n",
    "for i in [5, 10, 20]:\n",
    "    pt_file_path = f'./{i}XEmbeddings/'\n",
    "    file_name=f'{i}Xslide_embeding.h5'\n",
    "    concate_slide_Embeddings(pt_file_path, file_name)"
   ]
  },
  {
   "cell_type": "code",
   "execution_count": 5,
   "metadata": {},
   "outputs": [],
   "source": [
    "import sys\n",
    "sys.path.append('..')\n",
    "\n",
    "from utils.slide_utils import match_label\n",
    "\n",
    "def concate_X_Embeddings(pt_file_path, file_name):\n",
    "    pt_files = glob.glob(pt_file_path+'*_tile_tensor.pt')\n",
    "    embeddings = []\n",
    "    ids = []\n",
    "    coord1 = []\n",
    "    coord2 = []\n",
    "\n",
    "    # Merge embeddings with labels based on image_id\n",
    "    drug_response = []\n",
    "    data_source = []\n",
    "    for pt_file in pt_files:\n",
    "        id=pt_file.split('_')[0].split(pt_file_path)[1]\n",
    "        if int(id) in image_ids:\n",
    "            data = torch.load(pt_file)\n",
    "            tile_embeds = data['tile_embeds']\n",
    "            tile_coords = data['coords']\n",
    "            for i in range(len(tile_embeds)):\n",
    "                embeddings.append(tile_embeds[i].numpy())\n",
    "                coord1.append(tile_coords[i].numpy()[0])\n",
    "                coord2.append(tile_coords[i].numpy()[1])\n",
    "                ids.append(id)\n",
    "                mat_id_df = slides_id_df[slides_id_df['images_id']==int(id)]\n",
    "                drug_response.append(match_label(list(mat_id_df.ORR)[0]))\n",
    "                data_source.append(list(mat_id_df.cancer)[0])\n",
    "    embeddings_df = pd.DataFrame(embeddings)\n",
    "    embeddings_df['ids'] = ids\n",
    "    embeddings_df['coord1'] = coord1\n",
    "    embeddings_df['coord2'] = coord2\n",
    "    embeddings_df['drug_response']=drug_response\n",
    "    embeddings_df['data_source']=data_source\n",
    "    embeddings_df.to_hdf(file_name, key='df', mode='w')"
   ]
  },
  {
   "cell_type": "code",
   "execution_count": 6,
   "metadata": {},
   "outputs": [],
   "source": [
    "# Concat all the patch encoding to one H5 file\n",
    "for i in [5, 10, 20]:\n",
    "    pt_file_path = f'./{i}XEmbeddings/'\n",
    "    file_name=f'{i}Xtile_embeding.h5'\n",
    "    concate_X_Embeddings(pt_file_path, file_name)"
   ]
  },
  {
   "cell_type": "code",
   "execution_count": 7,
   "metadata": {},
   "outputs": [],
   "source": [
    "def plot_umap_fig(umap_embeddings, label, ids, title):\n",
    "    umap_df = pd.DataFrame(umap_embeddings, columns=['UMAP1', 'UMAP2'])\n",
    "    umap_df['Label'] = label\n",
    "    umap_df['ID'] = ids\n",
    "\n",
    "    # Plot the UMAP result\n",
    "    plt.figure(figsize=(10, 8))\n",
    "    for label in umap_df['Label'].unique():\n",
    "        subset = umap_df[umap_df['Label'] == label]\n",
    "        plt.scatter(subset['UMAP1'], subset['UMAP2'], label=label, cmap='Spectral', alpha=0.7, s=0.1)\n",
    "\n",
    "    plt.title(title)\n",
    "    plt.xlabel('UMAP1')\n",
    "    plt.ylabel('UMAP2')\n",
    "    plt.legend()\n",
    "    plt.show()"
   ]
  },
  {
   "cell_type": "code",
   "execution_count": 10,
   "metadata": {},
   "outputs": [
    {
     "ename": "",
     "evalue": "",
     "output_type": "error",
     "traceback": [
      "\u001b[1;31mThe Kernel crashed while executing code in the current cell or a previous cell. \n",
      "\u001b[1;31mPlease review the code in the cell(s) to identify a possible cause of the failure. \n",
      "\u001b[1;31mClick <a href='https://aka.ms/vscodeJupyterKernelCrash'>here</a> for more info. \n",
      "\u001b[1;31mView Jupyter <a href='command:jupyter.viewOutput'>log</a> for further details."
     ]
    }
   ],
   "source": [
    "embeddings_df20X = pd.read_hdf('20Xtile_embeding.h5')\n",
    "embeddings_df10X = pd.read_hdf('10Xtile_embeding.h5')\n",
    "embeddings_df5X = pd.read_hdf('5Xtile_embeding.h5')\n",
    "embeddings_slides = pd.read_hdf('20Xslide_embeding.h5')"
   ]
  },
  {
   "cell_type": "code",
   "execution_count": 11,
   "metadata": {},
   "outputs": [
    {
     "name": "stderr",
     "output_type": "stream",
     "text": [
      "/home/lizx43/anaconda3/envs/gigapath/lib/python3.9/site-packages/umap/umap_.py:1945: UserWarning: n_jobs value 1 overridden to 1 by setting random_state. Use no seed for parallelism.\n",
      "  warn(f\"n_jobs value {self.n_jobs} overridden to 1 by setting random_state. Use no seed for parallelism.\")\n"
     ]
    },
    {
     "name": "stdout",
     "output_type": "stream",
     "text": [
      "UMAP(n_jobs=1, random_state=42, verbose=True)\n",
      "Wed Aug  7 13:57:54 2024 Construct fuzzy simplicial set\n",
      "Wed Aug  7 13:57:56 2024 Finding Nearest Neighbors\n",
      "Wed Aug  7 13:57:57 2024 Building RP forest with 48 trees\n"
     ]
    }
   ],
   "source": [
    "# Perform UMAP clustering\n",
    "# for df in [embeddings_df20X, embeddings_df10X, embeddings_df5X]:\n",
    "# df_sample = embeddings_df20X.sample(frac=0.5, random_state=42)\n",
    "for df in [embeddings_df20X]:\n",
    "    df=df.dropna()\n",
    "    reducer = umap.UMAP(n_neighbors=15, min_dist=0.1, n_components=2, random_state=42, verbose=True)\n",
    "    umap_embeddings = reducer.fit_transform(df.iloc[:, :1536])\n"
   ]
  },
  {
   "cell_type": "code",
   "execution_count": null,
   "metadata": {},
   "outputs": [
    {
     "ename": "",
     "evalue": "",
     "output_type": "error",
     "traceback": [
      "\u001b[1;31mRunning cells with 'Python 3.10.12' requires the ipykernel package.\n",
      "\u001b[1;31mRun the following command to install 'ipykernel' into the Python environment. \n",
      "\u001b[1;31mCommand: '/usr/bin/python3 -m pip install ipykernel -U --user --force-reinstall'"
     ]
    }
   ],
   "source": [
    "embeddings_df20X\n",
    "embeddings_df20X['ids'] = embeddings_df20X['ids'].astype(int)\n",
    "embeddings_df20X['coord1'] = embeddings_df20X['coord1'].astype(int)\n",
    "embeddings_df20X['coord2'] = embeddings_df20X['coord2'].astype(int)\n",
    "embeddings_df20X['File_name'] = embeddings_df20X['ids'].astype(str) + '/' + embeddings_df20X['coord1'].astype(str) + 'x_' + embeddings_df20X['coord2'].astype(str) + 'y.jpg'\n",
    "umap_embed = pd.DataFrame(umap_embeddings, columns=['UMAP1', 'UMAP2'])\n",
    "embeddings_df20X['UMAP1'] = umap_embed['UMAP1']\n",
    "embeddings_df20X['UMAP2'] = umap_embed['UMAP2']\n",
    "\n",
    "# embeddings_df20X.to_hdf('20xtile_umap_embed.h5', key='df', mode='w')"
   ]
  },
  {
   "cell_type": "code",
   "execution_count": null,
   "metadata": {},
   "outputs": [
    {
     "ename": "",
     "evalue": "",
     "output_type": "error",
     "traceback": [
      "\u001b[1;31mRunning cells with 'Python 3.10.12' requires the ipykernel package.\n",
      "\u001b[1;31mRun the following command to install 'ipykernel' into the Python environment. \n",
      "\u001b[1;31mCommand: '/usr/bin/python3 -m pip install ipykernel -U --user --force-reinstall'"
     ]
    }
   ],
   "source": [
    "def plot_umap_fig(umap_embeddings, label, ids, title):\n",
    "    umap_df = pd.DataFrame(umap_embeddings, columns=['UMAP1', 'UMAP2'])\n",
    "    umap_df['Label'] = label\n",
    "    umap_df['ID'] = ids\n",
    "\n",
    "    # Plot the UMAP result\n",
    "    plt.figure(figsize=(10, 8))\n",
    "    for label in umap_df['Label'].unique():\n",
    "        subset = umap_df[umap_df['Label'] == label]\n",
    "        plt.scatter(subset['UMAP1'], subset['UMAP2'], label=label, cmap='Spectral', alpha=0.7, s=0.1)\n",
    "\n",
    "    plt.title(title)\n",
    "    plt.xlabel('UMAP1')\n",
    "    plt.ylabel('UMAP2')\n",
    "    plt.legend(markerscale=30)\n",
    "\n",
    "    plt.show() \n",
    "plot_umap_fig(umap_embeddings, df.drug_response, df.drug_response, title='20X tile embedding unsupervised Umap')\n",
    "plot_umap_fig(umap_embeddings, df.data_source, df.drug_response, title='20X tile embedding unsupervised Umap')\n",
    "plot_umap_fig(umap_embeddings, df.ids, df.drug_response, title='20X tile embedding unsupervised Umap')\n"
   ]
  },
  {
   "cell_type": "code",
   "execution_count": 10,
   "metadata": {},
   "outputs": [
    {
     "name": "stdout",
     "output_type": "stream",
     "text": [
      "UMAP(n_jobs=1, random_state=42, verbose=True)\n",
      "Wed Jul 31 21:37:00 2024 Construct fuzzy simplicial set\n",
      "Wed Jul 31 21:37:00 2024 Finding Nearest Neighbors\n",
      "Wed Jul 31 21:37:00 2024 Finished Nearest Neighbor Search\n",
      "Wed Jul 31 21:37:00 2024 Construct embedding\n"
     ]
    },
    {
     "name": "stderr",
     "output_type": "stream",
     "text": [
      "/home/lizx43/anaconda3/envs/gigapath/lib/python3.9/site-packages/umap/umap_.py:1945: UserWarning: n_jobs value 1 overridden to 1 by setting random_state. Use no seed for parallelism.\n",
      "  warn(f\"n_jobs value {self.n_jobs} overridden to 1 by setting random_state. Use no seed for parallelism.\")\n"
     ]
    },
    {
     "data": {
      "application/vnd.jupyter.widget-view+json": {
       "model_id": "8c51a04950264c1ba641fe298ae3c9fb",
       "version_major": 2,
       "version_minor": 0
      },
      "text/plain": [
       "Epochs completed:   0%|            0/500 [00:00]"
      ]
     },
     "metadata": {},
     "output_type": "display_data"
    },
    {
     "name": "stdout",
     "output_type": "stream",
     "text": [
      "\tcompleted  0  /  500 epochs\n",
      "\tcompleted  50  /  500 epochs\n",
      "\tcompleted  100  /  500 epochs\n",
      "\tcompleted  150  /  500 epochs\n",
      "\tcompleted  200  /  500 epochs\n",
      "\tcompleted  250  /  500 epochs\n",
      "\tcompleted  300  /  500 epochs\n",
      "\tcompleted  350  /  500 epochs\n",
      "\tcompleted  400  /  500 epochs\n",
      "\tcompleted  450  /  500 epochs\n",
      "Wed Jul 31 21:37:01 2024 Finished embedding\n"
     ]
    }
   ],
   "source": [
    "df = embeddings_slides\n",
    "reducer = umap.UMAP(n_neighbors=15, min_dist=0.1, n_components=2, random_state=42, verbose=True)\n",
    "umap_embeddings = reducer.fit_transform(df.iloc[:, :768])\n",
    "title = 'Slide Level Embedding Unsupervised Umap'\n"
   ]
  },
  {
   "cell_type": "code",
   "execution_count": 20,
   "metadata": {},
   "outputs": [
    {
     "name": "stderr",
     "output_type": "stream",
     "text": [
      "/tmp/ipykernel_1187167/1552973099.py:15: UserWarning: No data for colormapping provided via 'c'. Parameters 'cmap' will be ignored\n",
      "  plt.scatter(subset['UMAP1'], subset['UMAP2'], label=label, cmap='Spectral', alpha=0.65, s=35)\n"
     ]
    },
    {
     "data": {
      "image/png": "[encoded data removed]",
      "text/plain": [
       "<Figure size 1000x800 with 1 Axes>"
      ]
     },
     "metadata": {},
     "output_type": "display_data"
    }
   ],
   "source": [
    "def plot_umap_fig(umap_embeddings, label, title):\n",
    "    umap_df = pd.DataFrame(umap_embeddings, columns=['UMAP1', 'UMAP2'])\n",
    "    umap_df['Label'] = label\n",
    "\n",
    "    MATCH_RESPONSE_LABEL = {\n",
    "        0:'Non-responder',\n",
    "        1:'Responder'\n",
    "    }\n",
    "    umap_df['Label'] = umap_df['Label'].map(MATCH_RESPONSE_LABEL)\n",
    "\n",
    "    # Plot the UMAP result\n",
    "    plt.figure(figsize=(10, 8))\n",
    "    for label in umap_df['Label'].unique():\n",
    "        subset = umap_df[umap_df['Label'] == label]\n",
    "        plt.scatter(subset['UMAP1'], subset['UMAP2'], label=label, cmap='Spectral', alpha=0.65, s=35)\n",
    "\n",
    "    plt.title(title)\n",
    "    plt.legend(title='Outcome', markerscale=2)\n",
    "    plt.gca().set_xticks([])\n",
    "    plt.gca().set_yticks([])\n",
    "    plt.show() \n",
    "plot_umap_fig(umap_embeddings, df.drug_response, title)"
   ]
  },
  {
   "cell_type": "code",
   "execution_count": null,
   "metadata": {},
   "outputs": [
    {
     "ename": "",
     "evalue": "",
     "output_type": "error",
     "traceback": [
      "\u001b[1;31mRunning cells with 'Python 3.10.12' requires the ipykernel package.\n",
      "\u001b[1;31mRun the following command to install 'ipykernel' into the Python environment. \n",
      "\u001b[1;31mCommand: '/usr/bin/python3 -m pip install ipykernel -U --user --force-reinstall'"
     ]
    }
   ],
   "source": [
    "\n",
    "crc_df = embeddings_df20X[embeddings_df20X['data_source']=='CRC']\n",
    "crc_df_embed=crc_df.iloc[:, :1536]"
   ]
  },
  {
   "cell_type": "code",
   "execution_count": null,
   "metadata": {},
   "outputs": [
    {
     "ename": "",
     "evalue": "",
     "output_type": "error",
     "traceback": [
      "\u001b[1;31mRunning cells with 'Python 3.10.12' requires the ipykernel package.\n",
      "\u001b[1;31mRun the following command to install 'ipykernel' into the Python environment. \n",
      "\u001b[1;31mCommand: '/usr/bin/python3 -m pip install ipykernel -U --user --force-reinstall'"
     ]
    }
   ],
   "source": [
    "umap_plot_ids = []\n",
    "for index, row in crc_df.iterrows():\n",
    "    if row.drug_response==0:\n",
    "        umap_plot_ids.append('N-R')\n",
    "    elif row.drug_response==1:\n",
    "        umap_plot_ids.append(row.ids)\n",
    "reducer = umap.UMAP(n_neighbors=15, min_dist=0.1, n_components=2, random_state=42, verbose=True)\n",
    "umap_embeddings = reducer.fit_transform(np.array(crc_df_embed))\n",
    "\n",
    "plot_umap_fig(umap_embeddings, umap_plot_ids, list(crc_df.ids))"
   ]
  },
  {
   "cell_type": "code",
   "execution_count": null,
   "metadata": {},
   "outputs": [
    {
     "ename": "",
     "evalue": "",
     "output_type": "error",
     "traceback": [
      "\u001b[1;31mRunning cells with 'Python 3.10.12' requires the ipykernel package.\n",
      "\u001b[1;31mRun the following command to install 'ipykernel' into the Python environment. \n",
      "\u001b[1;31mCommand: '/usr/bin/python3 -m pip install ipykernel -U --user --force-reinstall'"
     ]
    }
   ],
   "source": [
    "# Perform UMAP clustering\n",
    "reducer = umap.UMAP(n_neighbors=15, min_dist=0.1, n_components=2, random_state=42, verbose=True)\n",
    "umap_embeddings = reducer.fit_transform(crc_df_embed, crc_df.drug_response)\n",
    "\n",
    "plot_umap_fig(umap_embeddings, crc_df.drug_response, crc_df.drug_response)"
   ]
  },
  {
   "cell_type": "markdown",
   "metadata": {},
   "source": []
  }
 ],
 "metadata": {
  "kernelspec": {
   "display_name": "gigapath",
   "language": "python",
   "name": "python3"
  },
  "language_info": {
   "codemirror_mode": {
    "name": "ipython",
    "version": 3
   },
   "file_extension": ".py",
   "mimetype": "text/x-python",
   "name": "python",
   "nbconvert_exporter": "python",
   "pygments_lexer": "ipython3",
   "version": "3.9.18"
  }
 },
 "nbformat": 4,
 "nbformat_minor": 2
}
