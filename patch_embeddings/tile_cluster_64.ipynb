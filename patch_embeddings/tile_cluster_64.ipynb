{
 "cells": [
  {
   "cell_type": "code",
   "execution_count": null,
   "metadata": {},
   "outputs": [],
   "source": [
    "import pandas as pd\n",
    "import numpy as np\n",
    "import matplotlib.pyplot as plt"
   ]
  },
  {
   "cell_type": "code",
   "execution_count": null,
   "metadata": {},
   "outputs": [],
   "source": [
    "embeddings_df20X = pd.read_hdf('20Xtile_embeding.h5')"
   ]
  },
  {
   "cell_type": "code",
   "execution_count": null,
   "metadata": {},
   "outputs": [],
   "source": [
    "import matplotlib.image as mpimg\n",
    "def plot_images(image_paths, title):\n",
    "    fig, axes = plt.subplots(2, 10, figsize=(20, 4))\n",
    "    fig.suptitle(title, fontsize=16)\n",
    "    for i, ax in enumerate(axes.flat):\n",
    "        if i < len(image_paths):\n",
    "            img = mpimg.imread(image_paths[i])\n",
    "            ax.imshow(img)\n",
    "            ax.axis('off')\n",
    "    plt.show()"
   ]
  },
  {
   "cell_type": "code",
   "execution_count": null,
   "metadata": {},
   "outputs": [],
   "source": [
    "import faiss\n",
    "vector_20x_df = embeddings_df20X.iloc[:, :1536]\n",
    "vectors_20x = np.stack(vector_20x_df.values)\n",
    "d = vectors_20x.shape[1]"
   ]
  },
  {
   "cell_type": "code",
   "execution_count": null,
   "metadata": {},
   "outputs": [],
   "source": [
    "n_clusters = 64\n",
    "# faiss.normalize_L2(vectors_20x)\n",
    "kmeans = faiss.Kmeans(d, n_clusters, niter=55, verbose=True, gpu=True, max_points_per_centroid=725970, nredo=3, seed=1234)\n",
    "kmeans.train(vectors_20x)\n",
    "print('--Finished Training')\n",
    "index = faiss.IndexFlatL2(d)\n",
    "index.add(vectors_20x)\n",
    "print('Finished Indexing')"
   ]
  },
  {
   "cell_type": "code",
   "execution_count": null,
   "metadata": {},
   "outputs": [],
   "source": [
    "cluster_assignments = kmeans.index.search(vectors_20x, 1)[1]\n",
    "print('Finished Searching')\n",
    "embeddings_df20X['cluster'] = cluster_assignments.flatten()\n",
    "# embeddings_df20X.to_hdf('20Xtile_w_64cluster_fix.h5', key='data')\n",
    "vector_20x_df = None"
   ]
  },
  {
   "cell_type": "code",
   "execution_count": null,
   "metadata": {},
   "outputs": [],
   "source": [
    "D, I = index.search (kmeans.centroids, 20)\n",
    "image_dir = './20XTiles/'\n",
    "cluster_num  = 0\n",
    "for neighbors in I:\n",
    "    # print(f\"Cluster {cluster_id}: Centroid = {centroids[cluster_id]}\")\n",
    "    print('cluster_num', cluster_num)\n",
    "    print(f\"Nearest 20 Neighbors: {neighbors}\\n\")\n",
    "    filenames = []\n",
    "    for i in neighbors:\n",
    "        slide_id = embeddings_df20X.iloc[i].ids\n",
    "        coord1 = int(embeddings_df20X.iloc[i].coord1)\n",
    "        coord2 = int(embeddings_df20X.iloc[i].coord2)\n",
    "        filename = image_dir+str(slide_id)+'/'+str(coord1)+'x_'+str(coord2)+'y.jpg'\n",
    "        filenames.append(filename)\n",
    "    image_paths = filenames\n",
    "    plot_images(image_paths, f\"Cluster {cluster_num} - Nearest 20 Neighbors\")\n",
    "    cluster_num += 1"
   ]
  },
  {
   "cell_type": "code",
   "execution_count": null,
   "metadata": {},
   "outputs": [],
   "source": [
    "for i in range(n_clusters):\n",
    "    print('cluster_num', i)\n",
    "    print(f\"Random 20 : \")\n",
    "    filenames = []\n",
    "    cluster_df = embeddings_df20X[embeddings_df20X['cluster']==i]\n",
    "    cluster_df = cluster_df.sample(n=20)\n",
    "    for row in cluster_df.iterrows():\n",
    "        row = row[1]\n",
    "        slide_id = row.ids\n",
    "        coord1 = int(row.coord1)\n",
    "        coord2 = int(row.coord2)\n",
    "        filename = image_dir+str(slide_id)+'/'+str(coord1)+'x_'+str(coord2)+'y.jpg'\n",
    "        filenames.append(filename)\n",
    "    image_paths = filenames\n",
    "    plot_images(image_paths, f\"Cluster {i+1} - Random 20\")"
   ]
  },
  {
   "cell_type": "code",
   "execution_count": null,
   "metadata": {},
   "outputs": [],
   "source": [
    "vectors_20x = None\n",
    "embeddings_df20X = None"
   ]
  },
  {
   "cell_type": "code",
   "execution_count": null,
   "metadata": {},
   "outputs": [],
   "source": [
    "# Mannully identified the clusters and add a column of 'is cluster include'\n",
    "embeddings_df20X = pd.read_hdf('20Xtile_w_64cluster_fix.h5')\n",
    "cluster_map = pd.read_excel('cluster_is_include.xlsx')\n",
    "embeddings_df20X = embeddings_df20X.merge(cluster_map, left_on='cluster', right_on='cluster_number', how='left')\n",
    "# embeddings_df20X.to_hdf('20Xtile_w_64cluster_fix.h5', key='data')\n"
   ]
  },
  {
   "cell_type": "markdown",
   "metadata": {},
   "source": [
    "### Draw Umap"
   ]
  },
  {
   "cell_type": "code",
   "execution_count": null,
   "metadata": {},
   "outputs": [],
   "source": [
    "# embeddings_df20X = pd.read_hdf('20Xtile_w_64cluster_fix.h5')\n",
    "# umap_embeddings = None\n",
    "# input_embed = embeddings_df20X.sample(frac=0.1, random_state=42)\n",
    "# for df in [input_embed]:\n",
    "#     df=df.dropna()\n",
    "#     # reducer = umap.UMAP(n_neighbors=20, min_dist=0.99, n_components=2, random_state=42, verbose=True)\n",
    "#     reducer = umap.UMAP(n_neighbors=20, min_dist=0.9, n_components=2, random_state=42, verbose=True)\n",
    "#     umap_embeddings = reducer.fit_transform(df.iloc[:, :1536], df['cluster'])"
   ]
  },
  {
   "cell_type": "code",
   "execution_count": null,
   "metadata": {},
   "outputs": [],
   "source": [
    "# umap_df = pd.DataFrame(umap_embeddings, columns=['UMAP1', 'UMAP2'])\n",
    "# umap_df['Label'] = list(input_embed['cluster'])\n",
    "# umap_df.to_hdf('umap_20x_64cluster.h5', key='data')"
   ]
  },
  {
   "cell_type": "code",
   "execution_count": null,
   "metadata": {},
   "outputs": [],
   "source": [
    "# centroids = np.array([umap_embeddings[input_embed['cluster'] == i].mean(axis=0) for i in range(n_clusters)])\n",
    "\n",
    "# def plot_umap_fig(umap_embeddings, label, title):\n",
    "#     umap_df = pd.DataFrame(umap_embeddings, columns=['UMAP1', 'UMAP2'])\n",
    "#     umap_df['Label'] = list(label)\n",
    "\n",
    "#     # Plot the UMAP result\n",
    "#     plt.figure(figsize=(10, 8))\n",
    "#     scatter = plt.scatter(umap_df['UMAP1'], umap_df['UMAP2'], c=umap_df['Label'], cmap='Spectral', alpha=0.7, s=0.1)\n",
    "\n",
    "#     # plt.colorbar(scatter, label='Cluster')\n",
    "#     for i, centroid in enumerate(centroids):\n",
    "#         plt.text(centroid[0], centroid[1], str(i), fontsize=12, ha='center', va='center', color='black', weight='bold')\n",
    "\n",
    "#     plt.title(title)\n",
    "#     plt.xlabel('UMAP1')\n",
    "#     plt.ylabel('UMAP2')\n",
    "#     plt.legend(markerscale=30)\n",
    "\n",
    "#     plt.show() \n",
    "# plot_umap_fig(umap_embeddings, input_embed['cluster'], title='20X tile embedding Kmean Umap')"
   ]
  },
  {
   "cell_type": "code",
   "execution_count": null,
   "metadata": {},
   "outputs": [],
   "source": []
  },
  {
   "cell_type": "code",
   "execution_count": null,
   "metadata": {},
   "outputs": [],
   "source": []
  }
 ],
 "metadata": {
  "kernelspec": {
   "display_name": "gigapath",
   "language": "python",
   "name": "python3"
  },
  "language_info": {
   "codemirror_mode": {
    "name": "ipython",
    "version": 3
   },
   "file_extension": ".py",
   "mimetype": "text/x-python",
   "name": "python",
   "nbconvert_exporter": "python",
   "pygments_lexer": "ipython3",
   "version": "3.9.18"
  }
 },
 "nbformat": 4,
 "nbformat_minor": 2
}
