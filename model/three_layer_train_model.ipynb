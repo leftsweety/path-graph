{
 "cells": [
  {
   "cell_type": "code",
   "execution_count": 1,
   "metadata": {},
   "outputs": [],
   "source": [
    "import torch\n",
    "import os\n",
    "from torch_geometric.data import Data, DataLoader\n",
    "import torch.nn.functional as F\n",
    "import torch.nn as nn\n",
    "import torch.optim as optim\n",
    "import sys\n",
    "\n",
    "from sklearn.model_selection import train_test_split\n",
    "from sklearn.metrics import f1_score, roc_auc_score"
   ]
  },
  {
   "cell_type": "code",
   "execution_count": 2,
   "metadata": {},
   "outputs": [],
   "source": [
    "import pickle\n",
    "with open('three_layer_graph.pkl', 'rb') as f:\n",
    "    loaded_object = pickle.load(f)\n",
    "\n",
    "data_list = loaded_object"
   ]
  },
  {
   "cell_type": "code",
   "execution_count": 3,
   "metadata": {},
   "outputs": [
    {
     "name": "stderr",
     "output_type": "stream",
     "text": [
      "/home/lizx43/anaconda3/envs/gigapath/lib/python3.9/site-packages/pandas/core/computation/expressions.py:21: UserWarning: Pandas requires version '2.8.4' or newer of 'numexpr' (version '2.7.3' currently installed).\n",
      "  from pandas.core.computation.check import NUMEXPR_INSTALLED\n"
     ]
    }
   ],
   "source": [
    "import pandas as pd\n",
    "sub_id_list = pd.read_hdf('id_list.h5')\n",
    "sub_id_list = list(sub_id_list[0])"
   ]
  },
  {
   "cell_type": "code",
   "execution_count": 4,
   "metadata": {},
   "outputs": [
    {
     "data": {
      "text/plain": [
       "248"
      ]
     },
     "execution_count": 4,
     "metadata": {},
     "output_type": "execute_result"
    }
   ],
   "source": [
    "image_id_res_df = pd.read_csv('../get_data/data_sheets/image_id_res.csv')\n",
    "\n",
    "indications = list(image_id_res_df[image_id_res_df['images_id'].isin([int(x) for x in sub_id_list])].cancer)\n",
    "responses = list(image_id_res_df[image_id_res_df['images_id'].isin([int(x) for x in sub_id_list])].ORR)\n",
    "len(list(responses))"
   ]
  },
  {
   "cell_type": "code",
   "execution_count": 5,
   "metadata": {},
   "outputs": [
    {
     "data": {
      "text/plain": [
       "\"\\nind = 0 \\nfor data in data_list:\\n    ind += 1\\n    if(data[0]['edge_index'].shape[0]<2):\\n        print(ind, data[0]['edge_index'].shape[0], data[1]['edge_index'].shape[0], data[2]['edge_index'].shape[0])\\n\""
      ]
     },
     "execution_count": 5,
     "metadata": {},
     "output_type": "execute_result"
    }
   ],
   "source": [
    "'''\n",
    "ind = 0 \n",
    "for data in data_list:\n",
    "    ind += 1\n",
    "    if(data[0]['edge_index'].shape[0]<2):\n",
    "        print(ind, data[0]['edge_index'].shape[0], data[1]['edge_index'].shape[0], data[2]['edge_index'].shape[0])\n",
    "'''"
   ]
  },
  {
   "cell_type": "code",
   "execution_count": 6,
   "metadata": {},
   "outputs": [],
   "source": [
    "#Train with GPU\n",
    "torch.cuda.empty_cache()\n",
    "os.environ['PYTORCH_CUDA_ALLOC_CONF'] = 'max_split_size_mb:256'"
   ]
  },
  {
   "cell_type": "code",
   "execution_count": 7,
   "metadata": {},
   "outputs": [
    {
     "name": "stdout",
     "output_type": "stream",
     "text": [
      "Class weights: tensor([0.0059, 0.0127])\n"
     ]
    }
   ],
   "source": [
    "all_labels = torch.cat([data[0].y for data in data_list]).long() \n",
    "class_counts = torch.bincount(all_labels)\n",
    "class_weights = 1.0 / class_counts.float()\n",
    "print(\"Class weights:\", class_weights)"
   ]
  },
  {
   "cell_type": "code",
   "execution_count": 8,
   "metadata": {},
   "outputs": [],
   "source": [
    "sys.path.append('..')\n",
    "from utils.train_utils import accuracy, save_model_pki\n",
    "def train_gpu(model, train_loader, optimizer, criterion, device):\n",
    "    model.train()\n",
    "    total_loss = 0\n",
    "    total_acc = 0\n",
    "    all_preds = []\n",
    "    all_labels = []\n",
    "\n",
    "    for data in train_loader:\n",
    "        data_5x, data_10x, data_20x = data\n",
    "        if data_5x.edge_index.shape[0] < 2:\n",
    "            continue\n",
    "        data_5x, data_10x, data_20x = data_5x.to(device), data_10x.to(device), data_20x.to(device)\n",
    "        optimizer.zero_grad()\n",
    "        output = model(data_5x, data_10x, data_20x)\n",
    "        loss = criterion(output, data_5x.y.long())\n",
    "        \n",
    "        loss.backward()\n",
    "        optimizer.step()\n",
    "        total_loss += loss.item()\n",
    "\n",
    "        acc = accuracy(output, data_5x.y.long())\n",
    "        total_acc += acc.item()\n",
    "        preds = torch.argmax(output, dim=1).cpu().numpy()\n",
    "        labels = data_5x.y.cpu().numpy()\n",
    "        all_preds.extend(preds)\n",
    "        all_labels.extend(labels)\n",
    "\n",
    "    average_loss = total_loss / len(train_loader)\n",
    "    average_acc = total_acc / len(train_loader)\n",
    "    f1 = f1_score(all_labels, all_preds, average='weighted')\n",
    "    auc = roc_auc_score(all_labels, all_preds)\n",
    "    # return average_loss, average_acc, f1, auc\n",
    "    return average_loss, average_acc, f1, auc, all_labels, all_preds\n",
    "\n",
    "def valid_gpu(model, val_loader, criterion, device):\n",
    "    model.eval()\n",
    "    total_loss = 0\n",
    "    total_acc = 0\n",
    "    all_preds = []\n",
    "    all_labels = []\n",
    "    all_probs = []\n",
    "\n",
    "\n",
    "    with torch.no_grad():\n",
    "        for data in val_loader:\n",
    "            data_5x, data_10x, data_20x = data\n",
    "            if data_5x[0]['edge_index'].shape[0]<2:\n",
    "                continue\n",
    "            data_5x, data_10x, data_20x = data_5x.to(device), data_10x.to(device), data_20x.to(device)\n",
    "            output = model(data_5x, data_10x, data_20x)\n",
    "            loss = criterion(output, data_5x.y.long())\n",
    "            acc = accuracy(output, data_5x.y.long())\n",
    "            total_acc += acc.item()\n",
    "            total_loss += loss.item()\n",
    "\n",
    "            preds = torch.argmax(output, dim=1).cpu().numpy()\n",
    "            probs = F.softmax(output, dim=1)[:, 1].cpu().numpy()  # Get the probability of the positive class\n",
    "\n",
    "            labels = data_5x.y.cpu().numpy()\n",
    "            all_preds.extend(preds)\n",
    "            all_labels.extend(labels)\n",
    "            all_probs.extend(probs)\n",
    "\n",
    "\n",
    "    average_loss = total_loss / len(val_loader)\n",
    "    average_acc = total_acc / len(val_loader)\n",
    "    f1 = f1_score(all_labels, all_preds, average='weighted')\n",
    "    auc = roc_auc_score(all_labels, all_probs)\n",
    "\n",
    "    # return average_loss, average_acc, f1, auc\n",
    "    return average_loss, average_acc, f1, auc, all_labels, all_preds, all_probs\n"
   ]
  },
  {
   "cell_type": "code",
   "execution_count": 9,
   "metadata": {},
   "outputs": [],
   "source": [
    "import numpy as np\n",
    "import matplotlib.pyplot as plt\n",
    "from sklearn.metrics import confusion_matrix, ConfusionMatrixDisplay\n",
    "\n",
    "import seaborn as sns\n",
    "def plot_confusion_matrix(y_true, y_pred, title):\n",
    "    cm = confusion_matrix(y_true, y_pred)\n",
    "    cm_normalized = cm.astype('float') / cm.sum(axis=1)[:, np.newaxis]\n",
    "\n",
    "    fig, ax = plt.subplots(figsize=(8, 6))\n",
    "    cax = ax.matshow(cm_normalized, cmap='Blues')\n",
    "    plt.colorbar(cax)\n",
    "\n",
    "    for (i, j), val in np.ndenumerate(cm_normalized):\n",
    "        plt.text(j, i, f'{val:.2%}', ha='center', va='center', color='red')\n",
    "\n",
    "    plt.title(title)\n",
    "    plt.xlabel('Predicted Label')\n",
    "    plt.ylabel('True Label')\n",
    "    plt.show()"
   ]
  },
  {
   "cell_type": "code",
   "execution_count": 10,
   "metadata": {},
   "outputs": [
    {
     "name": "stdout",
     "output_type": "stream",
     "text": [
      "--Start Epoch 1/40--\n"
     ]
    },
    {
     "name": "stderr",
     "output_type": "stream",
     "text": [
      "/home/lizx43/anaconda3/envs/gigapath/lib/python3.9/site-packages/torch_geometric/warnings.py:11: UserWarning: The usage of `scatter(reduce='max')` can be accelerated via the 'torch-scatter' package, but it was not found\n",
      "  warnings.warn(message)\n"
     ]
    },
    {
     "name": "stdout",
     "output_type": "stream",
     "text": [
      "Epoch 1/40, Train Loss: 0.6269, Acc: 0.6768, F1: 0.5918, AUC: 0.5035\n",
      "Epoch 1/40, Valid Loss: 0.6512, Acc: 0.6200, F1: 0.4746, AUC: 0.6740\n",
      "[0.5035259185945813] [0.6740237691001698]\n",
      "--Start Epoch 2/40--\n"
     ]
    },
    {
     "name": "stderr",
     "output_type": "stream",
     "text": [
      "/home/lizx43/anaconda3/envs/gigapath/lib/python3.9/site-packages/torch_geometric/warnings.py:11: UserWarning: The usage of `scatter(reduce='max')` can be accelerated via the 'torch-scatter' package, but it was not found\n",
      "  warnings.warn(message)\n"
     ]
    },
    {
     "name": "stdout",
     "output_type": "stream",
     "text": [
      "Epoch 2/40, Train Loss: 0.5723, Acc: 0.6919, F1: 0.5751, AUC: 0.5000\n",
      "Epoch 2/40, Valid Loss: 0.6236, Acc: 0.6200, F1: 0.4746, AUC: 0.7199\n",
      "[0.5035259185945813, 0.5] [0.6740237691001698, 0.7198641765704583]\n",
      "--Start Epoch 3/40--\n"
     ]
    },
    {
     "name": "stderr",
     "output_type": "stream",
     "text": [
      "/home/lizx43/anaconda3/envs/gigapath/lib/python3.9/site-packages/torch_geometric/warnings.py:11: UserWarning: The usage of `scatter(reduce='max')` can be accelerated via the 'torch-scatter' package, but it was not found\n",
      "  warnings.warn(message)\n"
     ]
    },
    {
     "name": "stdout",
     "output_type": "stream",
     "text": [
      "Epoch 3/40, Train Loss: 0.5123, Acc: 0.7576, F1: 0.7239, AUC: 0.6295\n",
      "Epoch 3/40, Valid Loss: 0.5995, Acc: 0.7000, F1: 0.6813, AUC: 0.7216\n",
      "[0.5035259185945813, 0.5, 0.6294692564641842] [0.6740237691001698, 0.7198641765704583, 0.7215619694397284]\n",
      "--Start Epoch 4/40--\n"
     ]
    },
    {
     "name": "stderr",
     "output_type": "stream",
     "text": [
      "/home/lizx43/anaconda3/envs/gigapath/lib/python3.9/site-packages/torch_geometric/warnings.py:11: UserWarning: The usage of `scatter(reduce='max')` can be accelerated via the 'torch-scatter' package, but it was not found\n",
      "  warnings.warn(message)\n"
     ]
    },
    {
     "name": "stdout",
     "output_type": "stream",
     "text": [
      "Epoch 4/40, Train Loss: 0.3943, Acc: 0.8283, F1: 0.8225, AUC: 0.7481\n",
      "Epoch 4/40, Valid Loss: 0.7680, Acc: 0.6800, F1: 0.5965, AUC: 0.7385\n",
      "[0.5035259185945813, 0.5, 0.6294692564641842, 0.7481133242607944] [0.6740237691001698, 0.7198641765704583, 0.7215619694397284, 0.7385398981324277]\n",
      "--Start Epoch 5/40--\n"
     ]
    },
    {
     "name": "stderr",
     "output_type": "stream",
     "text": [
      "/home/lizx43/anaconda3/envs/gigapath/lib/python3.9/site-packages/torch_geometric/warnings.py:11: UserWarning: The usage of `scatter(reduce='max')` can be accelerated via the 'torch-scatter' package, but it was not found\n",
      "  warnings.warn(message)\n"
     ]
    },
    {
     "name": "stdout",
     "output_type": "stream",
     "text": [
      "Epoch 5/40, Train Loss: 0.2951, Acc: 0.8687, F1: 0.8740, AUC: 0.8304\n",
      "Epoch 5/40, Valid Loss: 0.7160, Acc: 0.6800, F1: 0.6321, AUC: 0.7623\n",
      "[0.5035259185945813, 0.5, 0.6294692564641842, 0.7481133242607944, 0.830384758134356] [0.6740237691001698, 0.7198641765704583, 0.7215619694397284, 0.7385398981324277, 0.7623089983022072]\n",
      "--Start Epoch 6/40--\n"
     ]
    },
    {
     "name": "stderr",
     "output_type": "stream",
     "text": [
      "/home/lizx43/anaconda3/envs/gigapath/lib/python3.9/site-packages/torch_geometric/warnings.py:11: UserWarning: The usage of `scatter(reduce='max')` can be accelerated via the 'torch-scatter' package, but it was not found\n",
      "  warnings.warn(message)\n"
     ]
    },
    {
     "name": "stdout",
     "output_type": "stream",
     "text": [
      "Epoch 6/40, Train Loss: 0.2021, Acc: 0.9293, F1: 0.9385, AUC: 0.9224\n",
      "Epoch 6/40, Valid Loss: 0.7705, Acc: 0.7000, F1: 0.6725, AUC: 0.7606\n",
      "[0.5035259185945813, 0.5, 0.6294692564641842, 0.7481133242607944, 0.830384758134356, 0.9224297909192131] [0.6740237691001698, 0.7198641765704583, 0.7215619694397284, 0.7385398981324277, 0.7623089983022072, 0.7606112054329371]\n",
      "--Start Epoch 7/40--\n"
     ]
    },
    {
     "name": "stderr",
     "output_type": "stream",
     "text": [
      "/home/lizx43/anaconda3/envs/gigapath/lib/python3.9/site-packages/torch_geometric/warnings.py:11: UserWarning: The usage of `scatter(reduce='max')` can be accelerated via the 'torch-scatter' package, but it was not found\n",
      "  warnings.warn(message)\n"
     ]
    },
    {
     "name": "stdout",
     "output_type": "stream",
     "text": [
      "Epoch 7/40, Train Loss: 0.1103, Acc: 0.9646, F1: 0.9744, AUC: 0.9673\n",
      "Epoch 7/40, Valid Loss: 0.6747, Acc: 0.7200, F1: 0.7200, AUC: 0.7725\n",
      "[0.5035259185945813, 0.5, 0.6294692564641842, 0.7481133242607944, 0.830384758134356, 0.9224297909192131, 0.967277001113448] [0.6740237691001698, 0.7198641765704583, 0.7215619694397284, 0.7385398981324277, 0.7623089983022072, 0.7606112054329371, 0.7724957555178268]\n",
      "--Start Epoch 8/40--\n"
     ]
    },
    {
     "name": "stderr",
     "output_type": "stream",
     "text": [
      "/home/lizx43/anaconda3/envs/gigapath/lib/python3.9/site-packages/torch_geometric/warnings.py:11: UserWarning: The usage of `scatter(reduce='max')` can be accelerated via the 'torch-scatter' package, but it was not found\n",
      "  warnings.warn(message)\n"
     ]
    },
    {
     "name": "stdout",
     "output_type": "stream",
     "text": [
      "Epoch 8/40, Train Loss: 0.0369, Acc: 0.9899, F1: 1.0000, AUC: 1.0000\n",
      "Epoch 8/40, Valid Loss: 0.8448, Acc: 0.7400, F1: 0.7349, AUC: 0.7657\n",
      "[0.5035259185945813, 0.5, 0.6294692564641842, 0.7481133242607944, 0.830384758134356, 0.9224297909192131, 0.967277001113448, 1.0] [0.6740237691001698, 0.7198641765704583, 0.7215619694397284, 0.7385398981324277, 0.7623089983022072, 0.7606112054329371, 0.7724957555178268, 0.7657045840407469]\n",
      "--Start Epoch 9/40--\n"
     ]
    },
    {
     "name": "stderr",
     "output_type": "stream",
     "text": [
      "/home/lizx43/anaconda3/envs/gigapath/lib/python3.9/site-packages/torch_geometric/warnings.py:11: UserWarning: The usage of `scatter(reduce='max')` can be accelerated via the 'torch-scatter' package, but it was not found\n",
      "  warnings.warn(message)\n"
     ]
    },
    {
     "name": "stdout",
     "output_type": "stream",
     "text": [
      "Epoch 9/40, Train Loss: 0.0185, Acc: 0.9899, F1: 1.0000, AUC: 1.0000\n",
      "Epoch 9/40, Valid Loss: 0.9330, Acc: 0.6800, F1: 0.6556, AUC: 0.7640\n",
      "[0.5035259185945813, 0.5, 0.6294692564641842, 0.7481133242607944, 0.830384758134356, 0.9224297909192131, 0.967277001113448, 1.0, 1.0] [0.6740237691001698, 0.7198641765704583, 0.7215619694397284, 0.7385398981324277, 0.7623089983022072, 0.7606112054329371, 0.7724957555178268, 0.7657045840407469, 0.764006791171477]\n",
      "--Start Epoch 10/40--\n"
     ]
    },
    {
     "name": "stderr",
     "output_type": "stream",
     "text": [
      "/home/lizx43/anaconda3/envs/gigapath/lib/python3.9/site-packages/torch_geometric/warnings.py:11: UserWarning: The usage of `scatter(reduce='max')` can be accelerated via the 'torch-scatter' package, but it was not found\n",
      "  warnings.warn(message)\n"
     ]
    },
    {
     "name": "stdout",
     "output_type": "stream",
     "text": [
      "Epoch 10/40, Train Loss: 0.0121, Acc: 0.9899, F1: 1.0000, AUC: 1.0000\n",
      "Epoch 10/40, Valid Loss: 0.9340, Acc: 0.6800, F1: 0.6761, AUC: 0.7776\n",
      "[0.5035259185945813, 0.5, 0.6294692564641842, 0.7481133242607944, 0.830384758134356, 0.9224297909192131, 0.967277001113448, 1.0, 1.0, 1.0] [0.6740237691001698, 0.7198641765704583, 0.7215619694397284, 0.7385398981324277, 0.7623089983022072, 0.7606112054329371, 0.7724957555178268, 0.7657045840407469, 0.764006791171477, 0.7775891341256367]\n",
      "--Start Epoch 11/40--\n"
     ]
    },
    {
     "name": "stderr",
     "output_type": "stream",
     "text": [
      "/home/lizx43/anaconda3/envs/gigapath/lib/python3.9/site-packages/torch_geometric/warnings.py:11: UserWarning: The usage of `scatter(reduce='max')` can be accelerated via the 'torch-scatter' package, but it was not found\n",
      "  warnings.warn(message)\n"
     ]
    },
    {
     "name": "stdout",
     "output_type": "stream",
     "text": [
      "Epoch 11/40, Train Loss: 0.0074, Acc: 0.9899, F1: 1.0000, AUC: 1.0000\n",
      "Epoch 11/40, Valid Loss: 0.9649, Acc: 0.6600, F1: 0.6581, AUC: 0.7657\n",
      "[0.5035259185945813, 0.5, 0.6294692564641842, 0.7481133242607944, 0.830384758134356, 0.9224297909192131, 0.967277001113448, 1.0, 1.0, 1.0, 1.0] [0.6740237691001698, 0.7198641765704583, 0.7215619694397284, 0.7385398981324277, 0.7623089983022072, 0.7606112054329371, 0.7724957555178268, 0.7657045840407469, 0.764006791171477, 0.7775891341256367, 0.765704584040747]\n",
      "--Start Epoch 12/40--\n"
     ]
    },
    {
     "name": "stderr",
     "output_type": "stream",
     "text": [
      "/home/lizx43/anaconda3/envs/gigapath/lib/python3.9/site-packages/torch_geometric/warnings.py:11: UserWarning: The usage of `scatter(reduce='max')` can be accelerated via the 'torch-scatter' package, but it was not found\n",
      "  warnings.warn(message)\n"
     ]
    },
    {
     "name": "stdout",
     "output_type": "stream",
     "text": [
      "Epoch 12/40, Train Loss: 0.0062, Acc: 0.9899, F1: 1.0000, AUC: 1.0000\n",
      "Epoch 12/40, Valid Loss: 1.0045, Acc: 0.6800, F1: 0.6761, AUC: 0.7691\n",
      "[0.5035259185945813, 0.5, 0.6294692564641842, 0.7481133242607944, 0.830384758134356, 0.9224297909192131, 0.967277001113448, 1.0, 1.0, 1.0, 1.0, 1.0] [0.6740237691001698, 0.7198641765704583, 0.7215619694397284, 0.7385398981324277, 0.7623089983022072, 0.7606112054329371, 0.7724957555178268, 0.7657045840407469, 0.764006791171477, 0.7775891341256367, 0.765704584040747, 0.7691001697792869]\n",
      "--Start Epoch 13/40--\n"
     ]
    },
    {
     "name": "stderr",
     "output_type": "stream",
     "text": [
      "/home/lizx43/anaconda3/envs/gigapath/lib/python3.9/site-packages/torch_geometric/warnings.py:11: UserWarning: The usage of `scatter(reduce='max')` can be accelerated via the 'torch-scatter' package, but it was not found\n",
      "  warnings.warn(message)\n"
     ]
    },
    {
     "name": "stdout",
     "output_type": "stream",
     "text": [
      "Epoch 13/40, Train Loss: 0.0052, Acc: 0.9899, F1: 1.0000, AUC: 1.0000\n",
      "Epoch 13/40, Valid Loss: 1.0770, Acc: 0.7400, F1: 0.7300, AUC: 0.7759\n",
      "[0.5035259185945813, 0.5, 0.6294692564641842, 0.7481133242607944, 0.830384758134356, 0.9224297909192131, 0.967277001113448, 1.0, 1.0, 1.0, 1.0, 1.0, 1.0] [0.6740237691001698, 0.7198641765704583, 0.7215619694397284, 0.7385398981324277, 0.7623089983022072, 0.7606112054329371, 0.7724957555178268, 0.7657045840407469, 0.764006791171477, 0.7775891341256367, 0.765704584040747, 0.7691001697792869, 0.7758913412563666]\n",
      "--Start Epoch 14/40--\n"
     ]
    },
    {
     "name": "stderr",
     "output_type": "stream",
     "text": [
      "/home/lizx43/anaconda3/envs/gigapath/lib/python3.9/site-packages/torch_geometric/warnings.py:11: UserWarning: The usage of `scatter(reduce='max')` can be accelerated via the 'torch-scatter' package, but it was not found\n",
      "  warnings.warn(message)\n"
     ]
    },
    {
     "name": "stdout",
     "output_type": "stream",
     "text": [
      "Epoch 14/40, Train Loss: 0.0047, Acc: 0.9899, F1: 1.0000, AUC: 1.0000\n",
      "Epoch 14/40, Valid Loss: 1.0199, Acc: 0.7000, F1: 0.6983, AUC: 0.7725\n",
      "[0.5035259185945813, 0.5, 0.6294692564641842, 0.7481133242607944, 0.830384758134356, 0.9224297909192131, 0.967277001113448, 1.0, 1.0, 1.0, 1.0, 1.0, 1.0, 1.0] [0.6740237691001698, 0.7198641765704583, 0.7215619694397284, 0.7385398981324277, 0.7623089983022072, 0.7606112054329371, 0.7724957555178268, 0.7657045840407469, 0.764006791171477, 0.7775891341256367, 0.765704584040747, 0.7691001697792869, 0.7758913412563666, 0.7724957555178268]\n",
      "--Start Epoch 15/40--\n"
     ]
    },
    {
     "name": "stderr",
     "output_type": "stream",
     "text": [
      "/home/lizx43/anaconda3/envs/gigapath/lib/python3.9/site-packages/torch_geometric/warnings.py:11: UserWarning: The usage of `scatter(reduce='max')` can be accelerated via the 'torch-scatter' package, but it was not found\n",
      "  warnings.warn(message)\n"
     ]
    },
    {
     "name": "stdout",
     "output_type": "stream",
     "text": [
      "Epoch 15/40, Train Loss: 0.0051, Acc: 0.9899, F1: 1.0000, AUC: 1.0000\n",
      "Epoch 15/40, Valid Loss: 1.0656, Acc: 0.6800, F1: 0.6761, AUC: 0.7606\n",
      "[0.5035259185945813, 0.5, 0.6294692564641842, 0.7481133242607944, 0.830384758134356, 0.9224297909192131, 0.967277001113448, 1.0, 1.0, 1.0, 1.0, 1.0, 1.0, 1.0, 1.0] [0.6740237691001698, 0.7198641765704583, 0.7215619694397284, 0.7385398981324277, 0.7623089983022072, 0.7606112054329371, 0.7724957555178268, 0.7657045840407469, 0.764006791171477, 0.7775891341256367, 0.765704584040747, 0.7691001697792869, 0.7758913412563666, 0.7724957555178268, 0.7606112054329373]\n",
      "--Start Epoch 16/40--\n"
     ]
    },
    {
     "name": "stderr",
     "output_type": "stream",
     "text": [
      "/home/lizx43/anaconda3/envs/gigapath/lib/python3.9/site-packages/torch_geometric/warnings.py:11: UserWarning: The usage of `scatter(reduce='max')` can be accelerated via the 'torch-scatter' package, but it was not found\n",
      "  warnings.warn(message)\n"
     ]
    },
    {
     "name": "stdout",
     "output_type": "stream",
     "text": [
      "Epoch 16/40, Train Loss: 0.0048, Acc: 0.9899, F1: 1.0000, AUC: 1.0000\n",
      "Epoch 16/40, Valid Loss: 1.0571, Acc: 0.6800, F1: 0.6827, AUC: 0.7657\n"
     ]
    },
    {
     "data": {
      "image/png": "[encoded data removed]",
      "text/plain": [
       "<Figure size 800x600 with 2 Axes>"
      ]
     },
     "metadata": {},
     "output_type": "display_data"
    },
    {
     "data": {
      "image/png": "[encoded data removed]",
      "text/plain": [
       "<Figure size 640x480 with 1 Axes>"
      ]
     },
     "metadata": {},
     "output_type": "display_data"
    },
    {
     "name": "stdout",
     "output_type": "stream",
     "text": [
      "[0.5035259185945813, 0.5, 0.6294692564641842, 0.7481133242607944, 0.830384758134356, 0.9224297909192131, 0.967277001113448, 1.0, 1.0, 1.0, 1.0, 1.0, 1.0, 1.0, 1.0, 1.0] [0.6740237691001698, 0.7198641765704583, 0.7215619694397284, 0.7385398981324277, 0.7623089983022072, 0.7606112054329371, 0.7724957555178268, 0.7657045840407469, 0.764006791171477, 0.7775891341256367, 0.765704584040747, 0.7691001697792869, 0.7758913412563666, 0.7724957555178268, 0.7606112054329373, 0.7657045840407469]\n",
      "--Start Epoch 17/40--\n"
     ]
    },
    {
     "name": "stderr",
     "output_type": "stream",
     "text": [
      "/home/lizx43/anaconda3/envs/gigapath/lib/python3.9/site-packages/torch_geometric/warnings.py:11: UserWarning: The usage of `scatter(reduce='max')` can be accelerated via the 'torch-scatter' package, but it was not found\n",
      "  warnings.warn(message)\n"
     ]
    },
    {
     "name": "stdout",
     "output_type": "stream",
     "text": [
      "Epoch 17/40, Train Loss: 0.0042, Acc: 0.9899, F1: 1.0000, AUC: 1.0000\n",
      "Epoch 17/40, Valid Loss: 1.1501, Acc: 0.7000, F1: 0.6983, AUC: 0.7742\n",
      "[0.5035259185945813, 0.5, 0.6294692564641842, 0.7481133242607944, 0.830384758134356, 0.9224297909192131, 0.967277001113448, 1.0, 1.0, 1.0, 1.0, 1.0, 1.0, 1.0, 1.0, 1.0, 1.0] [0.6740237691001698, 0.7198641765704583, 0.7215619694397284, 0.7385398981324277, 0.7623089983022072, 0.7606112054329371, 0.7724957555178268, 0.7657045840407469, 0.764006791171477, 0.7775891341256367, 0.765704584040747, 0.7691001697792869, 0.7758913412563666, 0.7724957555178268, 0.7606112054329373, 0.7657045840407469, 0.7741935483870968]\n",
      "--Start Epoch 18/40--\n"
     ]
    },
    {
     "name": "stderr",
     "output_type": "stream",
     "text": [
      "/home/lizx43/anaconda3/envs/gigapath/lib/python3.9/site-packages/torch_geometric/warnings.py:11: UserWarning: The usage of `scatter(reduce='max')` can be accelerated via the 'torch-scatter' package, but it was not found\n",
      "  warnings.warn(message)\n"
     ]
    },
    {
     "name": "stdout",
     "output_type": "stream",
     "text": [
      "Epoch 18/40, Train Loss: 0.0090, Acc: 0.9899, F1: 1.0000, AUC: 1.0000\n",
      "Epoch 18/40, Valid Loss: 1.7439, Acc: 0.6400, F1: 0.6221, AUC: 0.7470\n",
      "[0.5035259185945813, 0.5, 0.6294692564641842, 0.7481133242607944, 0.830384758134356, 0.9224297909192131, 0.967277001113448, 1.0, 1.0, 1.0, 1.0, 1.0, 1.0, 1.0, 1.0, 1.0, 1.0, 1.0] [0.6740237691001698, 0.7198641765704583, 0.7215619694397284, 0.7385398981324277, 0.7623089983022072, 0.7606112054329371, 0.7724957555178268, 0.7657045840407469, 0.764006791171477, 0.7775891341256367, 0.765704584040747, 0.7691001697792869, 0.7758913412563666, 0.7724957555178268, 0.7606112054329373, 0.7657045840407469, 0.7741935483870968, 0.7470288624787775]\n",
      "--Start Epoch 19/40--\n"
     ]
    },
    {
     "name": "stderr",
     "output_type": "stream",
     "text": [
      "/home/lizx43/anaconda3/envs/gigapath/lib/python3.9/site-packages/torch_geometric/warnings.py:11: UserWarning: The usage of `scatter(reduce='max')` can be accelerated via the 'torch-scatter' package, but it was not found\n",
      "  warnings.warn(message)\n"
     ]
    },
    {
     "name": "stdout",
     "output_type": "stream",
     "text": [
      "Epoch 19/40, Train Loss: 0.3596, Acc: 0.8434, F1: 0.8537, AUC: 0.8363\n",
      "Epoch 19/40, Valid Loss: 0.8508, Acc: 0.6600, F1: 0.6616, AUC: 0.7216\n",
      "[0.5035259185945813, 0.5, 0.6294692564641842, 0.7481133242607944, 0.830384758134356, 0.9224297909192131, 0.967277001113448, 1.0, 1.0, 1.0, 1.0, 1.0, 1.0, 1.0, 1.0, 1.0, 1.0, 1.0, 0.8362612891253248] [0.6740237691001698, 0.7198641765704583, 0.7215619694397284, 0.7385398981324277, 0.7623089983022072, 0.7606112054329371, 0.7724957555178268, 0.7657045840407469, 0.764006791171477, 0.7775891341256367, 0.765704584040747, 0.7691001697792869, 0.7758913412563666, 0.7724957555178268, 0.7606112054329373, 0.7657045840407469, 0.7741935483870968, 0.7470288624787775, 0.7215619694397283]\n",
      "--Start Epoch 20/40--\n"
     ]
    },
    {
     "name": "stderr",
     "output_type": "stream",
     "text": [
      "/home/lizx43/anaconda3/envs/gigapath/lib/python3.9/site-packages/torch_geometric/warnings.py:11: UserWarning: The usage of `scatter(reduce='max')` can be accelerated via the 'torch-scatter' package, but it was not found\n",
      "  warnings.warn(message)\n"
     ]
    },
    {
     "name": "stdout",
     "output_type": "stream",
     "text": [
      "Epoch 20/40, Train Loss: 0.0445, Acc: 0.9848, F1: 0.9949, AUC: 0.9915\n",
      "Epoch 20/40, Valid Loss: 1.3370, Acc: 0.6600, F1: 0.6533, AUC: 0.7572\n",
      "[0.5035259185945813, 0.5, 0.6294692564641842, 0.7481133242607944, 0.830384758134356, 0.9224297909192131, 0.967277001113448, 1.0, 1.0, 1.0, 1.0, 1.0, 1.0, 1.0, 1.0, 1.0, 1.0, 1.0, 0.8362612891253248, 0.9915254237288136] [0.6740237691001698, 0.7198641765704583, 0.7215619694397284, 0.7385398981324277, 0.7623089983022072, 0.7606112054329371, 0.7724957555178268, 0.7657045840407469, 0.764006791171477, 0.7775891341256367, 0.765704584040747, 0.7691001697792869, 0.7758913412563666, 0.7724957555178268, 0.7606112054329373, 0.7657045840407469, 0.7741935483870968, 0.7470288624787775, 0.7215619694397283, 0.7572156196943973]\n",
      "--Start Epoch 21/40--\n"
     ]
    },
    {
     "name": "stderr",
     "output_type": "stream",
     "text": [
      "/home/lizx43/anaconda3/envs/gigapath/lib/python3.9/site-packages/torch_geometric/warnings.py:11: UserWarning: The usage of `scatter(reduce='max')` can be accelerated via the 'torch-scatter' package, but it was not found\n",
      "  warnings.warn(message)\n"
     ]
    },
    {
     "name": "stdout",
     "output_type": "stream",
     "text": [
      "Epoch 21/40, Train Loss: 0.0088, Acc: 0.9899, F1: 1.0000, AUC: 1.0000\n",
      "Epoch 21/40, Valid Loss: 1.5094, Acc: 0.6800, F1: 0.6761, AUC: 0.7453\n",
      "[0.5035259185945813, 0.5, 0.6294692564641842, 0.7481133242607944, 0.830384758134356, 0.9224297909192131, 0.967277001113448, 1.0, 1.0, 1.0, 1.0, 1.0, 1.0, 1.0, 1.0, 1.0, 1.0, 1.0, 0.8362612891253248, 0.9915254237288136, 1.0] [0.6740237691001698, 0.7198641765704583, 0.7215619694397284, 0.7385398981324277, 0.7623089983022072, 0.7606112054329371, 0.7724957555178268, 0.7657045840407469, 0.764006791171477, 0.7775891341256367, 0.765704584040747, 0.7691001697792869, 0.7758913412563666, 0.7724957555178268, 0.7606112054329373, 0.7657045840407469, 0.7741935483870968, 0.7470288624787775, 0.7215619694397283, 0.7572156196943973, 0.7453310696095076]\n",
      "--Start Epoch 22/40--\n"
     ]
    },
    {
     "name": "stderr",
     "output_type": "stream",
     "text": [
      "/home/lizx43/anaconda3/envs/gigapath/lib/python3.9/site-packages/torch_geometric/warnings.py:11: UserWarning: The usage of `scatter(reduce='max')` can be accelerated via the 'torch-scatter' package, but it was not found\n",
      "  warnings.warn(message)\n"
     ]
    },
    {
     "name": "stdout",
     "output_type": "stream",
     "text": [
      "Epoch 22/40, Train Loss: 0.0024, Acc: 0.9899, F1: 1.0000, AUC: 1.0000\n",
      "Epoch 22/40, Valid Loss: 1.5146, Acc: 0.6800, F1: 0.6800, AUC: 0.7504\n",
      "[0.5035259185945813, 0.5, 0.6294692564641842, 0.7481133242607944, 0.830384758134356, 0.9224297909192131, 0.967277001113448, 1.0, 1.0, 1.0, 1.0, 1.0, 1.0, 1.0, 1.0, 1.0, 1.0, 1.0, 0.8362612891253248, 0.9915254237288136, 1.0, 1.0] [0.6740237691001698, 0.7198641765704583, 0.7215619694397284, 0.7385398981324277, 0.7623089983022072, 0.7606112054329371, 0.7724957555178268, 0.7657045840407469, 0.764006791171477, 0.7775891341256367, 0.765704584040747, 0.7691001697792869, 0.7758913412563666, 0.7724957555178268, 0.7606112054329373, 0.7657045840407469, 0.7741935483870968, 0.7470288624787775, 0.7215619694397283, 0.7572156196943973, 0.7453310696095076, 0.7504244482173175]\n",
      "--Start Epoch 23/40--\n"
     ]
    },
    {
     "name": "stderr",
     "output_type": "stream",
     "text": [
      "/home/lizx43/anaconda3/envs/gigapath/lib/python3.9/site-packages/torch_geometric/warnings.py:11: UserWarning: The usage of `scatter(reduce='max')` can be accelerated via the 'torch-scatter' package, but it was not found\n",
      "  warnings.warn(message)\n"
     ]
    },
    {
     "name": "stdout",
     "output_type": "stream",
     "text": [
      "Epoch 23/40, Train Loss: 0.0017, Acc: 0.9899, F1: 1.0000, AUC: 1.0000\n",
      "Epoch 23/40, Valid Loss: 1.5384, Acc: 0.6600, F1: 0.6581, AUC: 0.7521\n",
      "[0.5035259185945813, 0.5, 0.6294692564641842, 0.7481133242607944, 0.830384758134356, 0.9224297909192131, 0.967277001113448, 1.0, 1.0, 1.0, 1.0, 1.0, 1.0, 1.0, 1.0, 1.0, 1.0, 1.0, 0.8362612891253248, 0.9915254237288136, 1.0, 1.0, 1.0] [0.6740237691001698, 0.7198641765704583, 0.7215619694397284, 0.7385398981324277, 0.7623089983022072, 0.7606112054329371, 0.7724957555178268, 0.7657045840407469, 0.764006791171477, 0.7775891341256367, 0.765704584040747, 0.7691001697792869, 0.7758913412563666, 0.7724957555178268, 0.7606112054329373, 0.7657045840407469, 0.7741935483870968, 0.7470288624787775, 0.7215619694397283, 0.7572156196943973, 0.7453310696095076, 0.7504244482173175, 0.7521222410865874]\n",
      "--Start Epoch 24/40--\n"
     ]
    },
    {
     "name": "stderr",
     "output_type": "stream",
     "text": [
      "/home/lizx43/anaconda3/envs/gigapath/lib/python3.9/site-packages/torch_geometric/warnings.py:11: UserWarning: The usage of `scatter(reduce='max')` can be accelerated via the 'torch-scatter' package, but it was not found\n",
      "  warnings.warn(message)\n"
     ]
    },
    {
     "name": "stdout",
     "output_type": "stream",
     "text": [
      "Epoch 24/40, Train Loss: 0.0014, Acc: 0.9899, F1: 1.0000, AUC: 1.0000\n",
      "Epoch 24/40, Valid Loss: 1.5460, Acc: 0.6600, F1: 0.6581, AUC: 0.7538\n",
      "[0.5035259185945813, 0.5, 0.6294692564641842, 0.7481133242607944, 0.830384758134356, 0.9224297909192131, 0.967277001113448, 1.0, 1.0, 1.0, 1.0, 1.0, 1.0, 1.0, 1.0, 1.0, 1.0, 1.0, 0.8362612891253248, 0.9915254237288136, 1.0, 1.0, 1.0, 1.0] [0.6740237691001698, 0.7198641765704583, 0.7215619694397284, 0.7385398981324277, 0.7623089983022072, 0.7606112054329371, 0.7724957555178268, 0.7657045840407469, 0.764006791171477, 0.7775891341256367, 0.765704584040747, 0.7691001697792869, 0.7758913412563666, 0.7724957555178268, 0.7606112054329373, 0.7657045840407469, 0.7741935483870968, 0.7470288624787775, 0.7215619694397283, 0.7572156196943973, 0.7453310696095076, 0.7504244482173175, 0.7521222410865874, 0.7538200339558574]\n",
      "--Start Epoch 25/40--\n"
     ]
    },
    {
     "name": "stderr",
     "output_type": "stream",
     "text": [
      "/home/lizx43/anaconda3/envs/gigapath/lib/python3.9/site-packages/torch_geometric/warnings.py:11: UserWarning: The usage of `scatter(reduce='max')` can be accelerated via the 'torch-scatter' package, but it was not found\n",
      "  warnings.warn(message)\n"
     ]
    },
    {
     "name": "stdout",
     "output_type": "stream",
     "text": [
      "Epoch 25/40, Train Loss: 0.0013, Acc: 0.9899, F1: 1.0000, AUC: 1.0000\n",
      "Epoch 25/40, Valid Loss: 1.5373, Acc: 0.6600, F1: 0.6581, AUC: 0.7555\n",
      "[0.5035259185945813, 0.5, 0.6294692564641842, 0.7481133242607944, 0.830384758134356, 0.9224297909192131, 0.967277001113448, 1.0, 1.0, 1.0, 1.0, 1.0, 1.0, 1.0, 1.0, 1.0, 1.0, 1.0, 0.8362612891253248, 0.9915254237288136, 1.0, 1.0, 1.0, 1.0, 1.0] [0.6740237691001698, 0.7198641765704583, 0.7215619694397284, 0.7385398981324277, 0.7623089983022072, 0.7606112054329371, 0.7724957555178268, 0.7657045840407469, 0.764006791171477, 0.7775891341256367, 0.765704584040747, 0.7691001697792869, 0.7758913412563666, 0.7724957555178268, 0.7606112054329373, 0.7657045840407469, 0.7741935483870968, 0.7470288624787775, 0.7215619694397283, 0.7572156196943973, 0.7453310696095076, 0.7504244482173175, 0.7521222410865874, 0.7538200339558574, 0.7555178268251274]\n",
      "--Start Epoch 26/40--\n"
     ]
    },
    {
     "name": "stderr",
     "output_type": "stream",
     "text": [
      "/home/lizx43/anaconda3/envs/gigapath/lib/python3.9/site-packages/torch_geometric/warnings.py:11: UserWarning: The usage of `scatter(reduce='max')` can be accelerated via the 'torch-scatter' package, but it was not found\n",
      "  warnings.warn(message)\n"
     ]
    },
    {
     "name": "stdout",
     "output_type": "stream",
     "text": [
      "Epoch 26/40, Train Loss: 0.0013, Acc: 0.9899, F1: 1.0000, AUC: 1.0000\n",
      "Epoch 26/40, Valid Loss: 1.5432, Acc: 0.6800, F1: 0.6761, AUC: 0.7521\n",
      "[0.5035259185945813, 0.5, 0.6294692564641842, 0.7481133242607944, 0.830384758134356, 0.9224297909192131, 0.967277001113448, 1.0, 1.0, 1.0, 1.0, 1.0, 1.0, 1.0, 1.0, 1.0, 1.0, 1.0, 0.8362612891253248, 0.9915254237288136, 1.0, 1.0, 1.0, 1.0, 1.0, 1.0] [0.6740237691001698, 0.7198641765704583, 0.7215619694397284, 0.7385398981324277, 0.7623089983022072, 0.7606112054329371, 0.7724957555178268, 0.7657045840407469, 0.764006791171477, 0.7775891341256367, 0.765704584040747, 0.7691001697792869, 0.7758913412563666, 0.7724957555178268, 0.7606112054329373, 0.7657045840407469, 0.7741935483870968, 0.7470288624787775, 0.7215619694397283, 0.7572156196943973, 0.7453310696095076, 0.7504244482173175, 0.7521222410865874, 0.7538200339558574, 0.7555178268251274, 0.7521222410865874]\n",
      "--Start Epoch 27/40--\n"
     ]
    },
    {
     "name": "stderr",
     "output_type": "stream",
     "text": [
      "/home/lizx43/anaconda3/envs/gigapath/lib/python3.9/site-packages/torch_geometric/warnings.py:11: UserWarning: The usage of `scatter(reduce='max')` can be accelerated via the 'torch-scatter' package, but it was not found\n",
      "  warnings.warn(message)\n"
     ]
    },
    {
     "name": "stdout",
     "output_type": "stream",
     "text": [
      "Epoch 27/40, Train Loss: 0.0012, Acc: 0.9899, F1: 1.0000, AUC: 1.0000\n",
      "Epoch 27/40, Valid Loss: 1.5237, Acc: 0.6600, F1: 0.6581, AUC: 0.7555\n",
      "[0.5035259185945813, 0.5, 0.6294692564641842, 0.7481133242607944, 0.830384758134356, 0.9224297909192131, 0.967277001113448, 1.0, 1.0, 1.0, 1.0, 1.0, 1.0, 1.0, 1.0, 1.0, 1.0, 1.0, 0.8362612891253248, 0.9915254237288136, 1.0, 1.0, 1.0, 1.0, 1.0, 1.0, 1.0] [0.6740237691001698, 0.7198641765704583, 0.7215619694397284, 0.7385398981324277, 0.7623089983022072, 0.7606112054329371, 0.7724957555178268, 0.7657045840407469, 0.764006791171477, 0.7775891341256367, 0.765704584040747, 0.7691001697792869, 0.7758913412563666, 0.7724957555178268, 0.7606112054329373, 0.7657045840407469, 0.7741935483870968, 0.7470288624787775, 0.7215619694397283, 0.7572156196943973, 0.7453310696095076, 0.7504244482173175, 0.7521222410865874, 0.7538200339558574, 0.7555178268251274, 0.7521222410865874, 0.7555178268251274]\n",
      "--Start Epoch 28/40--\n"
     ]
    },
    {
     "name": "stderr",
     "output_type": "stream",
     "text": [
      "/home/lizx43/anaconda3/envs/gigapath/lib/python3.9/site-packages/torch_geometric/warnings.py:11: UserWarning: The usage of `scatter(reduce='max')` can be accelerated via the 'torch-scatter' package, but it was not found\n",
      "  warnings.warn(message)\n"
     ]
    },
    {
     "name": "stdout",
     "output_type": "stream",
     "text": [
      "Epoch 28/40, Train Loss: 0.0012, Acc: 0.9899, F1: 1.0000, AUC: 1.0000\n",
      "Epoch 28/40, Valid Loss: 1.5312, Acc: 0.6800, F1: 0.6761, AUC: 0.7589\n",
      "[0.5035259185945813, 0.5, 0.6294692564641842, 0.7481133242607944, 0.830384758134356, 0.9224297909192131, 0.967277001113448, 1.0, 1.0, 1.0, 1.0, 1.0, 1.0, 1.0, 1.0, 1.0, 1.0, 1.0, 0.8362612891253248, 0.9915254237288136, 1.0, 1.0, 1.0, 1.0, 1.0, 1.0, 1.0, 1.0] [0.6740237691001698, 0.7198641765704583, 0.7215619694397284, 0.7385398981324277, 0.7623089983022072, 0.7606112054329371, 0.7724957555178268, 0.7657045840407469, 0.764006791171477, 0.7775891341256367, 0.765704584040747, 0.7691001697792869, 0.7758913412563666, 0.7724957555178268, 0.7606112054329373, 0.7657045840407469, 0.7741935483870968, 0.7470288624787775, 0.7215619694397283, 0.7572156196943973, 0.7453310696095076, 0.7504244482173175, 0.7521222410865874, 0.7538200339558574, 0.7555178268251274, 0.7521222410865874, 0.7555178268251274, 0.7589134125636673]\n",
      "--Start Epoch 29/40--\n"
     ]
    },
    {
     "name": "stderr",
     "output_type": "stream",
     "text": [
      "/home/lizx43/anaconda3/envs/gigapath/lib/python3.9/site-packages/torch_geometric/warnings.py:11: UserWarning: The usage of `scatter(reduce='max')` can be accelerated via the 'torch-scatter' package, but it was not found\n",
      "  warnings.warn(message)\n"
     ]
    },
    {
     "name": "stdout",
     "output_type": "stream",
     "text": [
      "Epoch 29/40, Train Loss: 0.0012, Acc: 0.9899, F1: 1.0000, AUC: 1.0000\n",
      "Epoch 29/40, Valid Loss: 1.5255, Acc: 0.6800, F1: 0.6761, AUC: 0.7589\n",
      "[0.5035259185945813, 0.5, 0.6294692564641842, 0.7481133242607944, 0.830384758134356, 0.9224297909192131, 0.967277001113448, 1.0, 1.0, 1.0, 1.0, 1.0, 1.0, 1.0, 1.0, 1.0, 1.0, 1.0, 0.8362612891253248, 0.9915254237288136, 1.0, 1.0, 1.0, 1.0, 1.0, 1.0, 1.0, 1.0, 1.0] [0.6740237691001698, 0.7198641765704583, 0.7215619694397284, 0.7385398981324277, 0.7623089983022072, 0.7606112054329371, 0.7724957555178268, 0.7657045840407469, 0.764006791171477, 0.7775891341256367, 0.765704584040747, 0.7691001697792869, 0.7758913412563666, 0.7724957555178268, 0.7606112054329373, 0.7657045840407469, 0.7741935483870968, 0.7470288624787775, 0.7215619694397283, 0.7572156196943973, 0.7453310696095076, 0.7504244482173175, 0.7521222410865874, 0.7538200339558574, 0.7555178268251274, 0.7521222410865874, 0.7555178268251274, 0.7589134125636673, 0.7589134125636673]\n",
      "--Start Epoch 30/40--\n"
     ]
    },
    {
     "name": "stderr",
     "output_type": "stream",
     "text": [
      "/home/lizx43/anaconda3/envs/gigapath/lib/python3.9/site-packages/torch_geometric/warnings.py:11: UserWarning: The usage of `scatter(reduce='max')` can be accelerated via the 'torch-scatter' package, but it was not found\n",
      "  warnings.warn(message)\n"
     ]
    },
    {
     "name": "stdout",
     "output_type": "stream",
     "text": [
      "Epoch 30/40, Train Loss: 0.0012, Acc: 0.9899, F1: 1.0000, AUC: 1.0000\n",
      "Epoch 30/40, Valid Loss: 1.4700, Acc: 0.6600, F1: 0.6616, AUC: 0.7606\n",
      "[0.5035259185945813, 0.5, 0.6294692564641842, 0.7481133242607944, 0.830384758134356, 0.9224297909192131, 0.967277001113448, 1.0, 1.0, 1.0, 1.0, 1.0, 1.0, 1.0, 1.0, 1.0, 1.0, 1.0, 0.8362612891253248, 0.9915254237288136, 1.0, 1.0, 1.0, 1.0, 1.0, 1.0, 1.0, 1.0, 1.0, 1.0] [0.6740237691001698, 0.7198641765704583, 0.7215619694397284, 0.7385398981324277, 0.7623089983022072, 0.7606112054329371, 0.7724957555178268, 0.7657045840407469, 0.764006791171477, 0.7775891341256367, 0.765704584040747, 0.7691001697792869, 0.7758913412563666, 0.7724957555178268, 0.7606112054329373, 0.7657045840407469, 0.7741935483870968, 0.7470288624787775, 0.7215619694397283, 0.7572156196943973, 0.7453310696095076, 0.7504244482173175, 0.7521222410865874, 0.7538200339558574, 0.7555178268251274, 0.7521222410865874, 0.7555178268251274, 0.7589134125636673, 0.7589134125636673, 0.7606112054329371]\n",
      "--Start Epoch 31/40--\n"
     ]
    },
    {
     "name": "stderr",
     "output_type": "stream",
     "text": [
      "/home/lizx43/anaconda3/envs/gigapath/lib/python3.9/site-packages/torch_geometric/warnings.py:11: UserWarning: The usage of `scatter(reduce='max')` can be accelerated via the 'torch-scatter' package, but it was not found\n",
      "  warnings.warn(message)\n"
     ]
    },
    {
     "name": "stdout",
     "output_type": "stream",
     "text": [
      "Epoch 31/40, Train Loss: 0.0011, Acc: 0.9899, F1: 1.0000, AUC: 1.0000\n",
      "Epoch 31/40, Valid Loss: 1.5086, Acc: 0.6800, F1: 0.6761, AUC: 0.7640\n"
     ]
    },
    {
     "data": {
      "image/png": "[encoded data removed]",
      "text/plain": [
       "<Figure size 800x600 with 2 Axes>"
      ]
     },
     "metadata": {},
     "output_type": "display_data"
    },
    {
     "data": {
      "image/png": "[encoded data removed]",
      "text/plain": [
       "<Figure size 640x480 with 1 Axes>"
      ]
     },
     "metadata": {},
     "output_type": "display_data"
    },
    {
     "name": "stdout",
     "output_type": "stream",
     "text": [
      "[0.5035259185945813, 0.5, 0.6294692564641842, 0.7481133242607944, 0.830384758134356, 0.9224297909192131, 0.967277001113448, 1.0, 1.0, 1.0, 1.0, 1.0, 1.0, 1.0, 1.0, 1.0, 1.0, 1.0, 0.8362612891253248, 0.9915254237288136, 1.0, 1.0, 1.0, 1.0, 1.0, 1.0, 1.0, 1.0, 1.0, 1.0, 1.0] [0.6740237691001698, 0.7198641765704583, 0.7215619694397284, 0.7385398981324277, 0.7623089983022072, 0.7606112054329371, 0.7724957555178268, 0.7657045840407469, 0.764006791171477, 0.7775891341256367, 0.765704584040747, 0.7691001697792869, 0.7758913412563666, 0.7724957555178268, 0.7606112054329373, 0.7657045840407469, 0.7741935483870968, 0.7470288624787775, 0.7215619694397283, 0.7572156196943973, 0.7453310696095076, 0.7504244482173175, 0.7521222410865874, 0.7538200339558574, 0.7555178268251274, 0.7521222410865874, 0.7555178268251274, 0.7589134125636673, 0.7589134125636673, 0.7606112054329371, 0.7640067911714771]\n",
      "--Start Epoch 32/40--\n"
     ]
    },
    {
     "name": "stderr",
     "output_type": "stream",
     "text": [
      "/home/lizx43/anaconda3/envs/gigapath/lib/python3.9/site-packages/torch_geometric/warnings.py:11: UserWarning: The usage of `scatter(reduce='max')` can be accelerated via the 'torch-scatter' package, but it was not found\n",
      "  warnings.warn(message)\n"
     ]
    },
    {
     "name": "stdout",
     "output_type": "stream",
     "text": [
      "Epoch 32/40, Train Loss: 0.0012, Acc: 0.9899, F1: 1.0000, AUC: 1.0000\n",
      "Epoch 32/40, Valid Loss: 1.4705, Acc: 0.6800, F1: 0.6761, AUC: 0.7623\n",
      "[0.5035259185945813, 0.5, 0.6294692564641842, 0.7481133242607944, 0.830384758134356, 0.9224297909192131, 0.967277001113448, 1.0, 1.0, 1.0, 1.0, 1.0, 1.0, 1.0, 1.0, 1.0, 1.0, 1.0, 0.8362612891253248, 0.9915254237288136, 1.0, 1.0, 1.0, 1.0, 1.0, 1.0, 1.0, 1.0, 1.0, 1.0, 1.0, 1.0] [0.6740237691001698, 0.7198641765704583, 0.7215619694397284, 0.7385398981324277, 0.7623089983022072, 0.7606112054329371, 0.7724957555178268, 0.7657045840407469, 0.764006791171477, 0.7775891341256367, 0.765704584040747, 0.7691001697792869, 0.7758913412563666, 0.7724957555178268, 0.7606112054329373, 0.7657045840407469, 0.7741935483870968, 0.7470288624787775, 0.7215619694397283, 0.7572156196943973, 0.7453310696095076, 0.7504244482173175, 0.7521222410865874, 0.7538200339558574, 0.7555178268251274, 0.7521222410865874, 0.7555178268251274, 0.7589134125636673, 0.7589134125636673, 0.7606112054329371, 0.7640067911714771, 0.7623089983022071]\n",
      "--Start Epoch 33/40--\n"
     ]
    },
    {
     "name": "stderr",
     "output_type": "stream",
     "text": [
      "/home/lizx43/anaconda3/envs/gigapath/lib/python3.9/site-packages/torch_geometric/warnings.py:11: UserWarning: The usage of `scatter(reduce='max')` can be accelerated via the 'torch-scatter' package, but it was not found\n",
      "  warnings.warn(message)\n"
     ]
    },
    {
     "name": "stdout",
     "output_type": "stream",
     "text": [
      "Epoch 33/40, Train Loss: 0.0015, Acc: 0.9899, F1: 1.0000, AUC: 1.0000\n",
      "Epoch 33/40, Valid Loss: 1.4295, Acc: 0.6400, F1: 0.6430, AUC: 0.7589\n",
      "[0.5035259185945813, 0.5, 0.6294692564641842, 0.7481133242607944, 0.830384758134356, 0.9224297909192131, 0.967277001113448, 1.0, 1.0, 1.0, 1.0, 1.0, 1.0, 1.0, 1.0, 1.0, 1.0, 1.0, 0.8362612891253248, 0.9915254237288136, 1.0, 1.0, 1.0, 1.0, 1.0, 1.0, 1.0, 1.0, 1.0, 1.0, 1.0, 1.0, 1.0] [0.6740237691001698, 0.7198641765704583, 0.7215619694397284, 0.7385398981324277, 0.7623089983022072, 0.7606112054329371, 0.7724957555178268, 0.7657045840407469, 0.764006791171477, 0.7775891341256367, 0.765704584040747, 0.7691001697792869, 0.7758913412563666, 0.7724957555178268, 0.7606112054329373, 0.7657045840407469, 0.7741935483870968, 0.7470288624787775, 0.7215619694397283, 0.7572156196943973, 0.7453310696095076, 0.7504244482173175, 0.7521222410865874, 0.7538200339558574, 0.7555178268251274, 0.7521222410865874, 0.7555178268251274, 0.7589134125636673, 0.7589134125636673, 0.7606112054329371, 0.7640067911714771, 0.7623089983022071, 0.7589134125636673]\n",
      "--Start Epoch 34/40--\n"
     ]
    },
    {
     "name": "stderr",
     "output_type": "stream",
     "text": [
      "/home/lizx43/anaconda3/envs/gigapath/lib/python3.9/site-packages/torch_geometric/warnings.py:11: UserWarning: The usage of `scatter(reduce='max')` can be accelerated via the 'torch-scatter' package, but it was not found\n",
      "  warnings.warn(message)\n"
     ]
    },
    {
     "name": "stdout",
     "output_type": "stream",
     "text": [
      "Epoch 34/40, Train Loss: 0.0014, Acc: 0.9899, F1: 1.0000, AUC: 1.0000\n",
      "Epoch 34/40, Valid Loss: 1.3950, Acc: 0.7000, F1: 0.6983, AUC: 0.7691\n",
      "[0.5035259185945813, 0.5, 0.6294692564641842, 0.7481133242607944, 0.830384758134356, 0.9224297909192131, 0.967277001113448, 1.0, 1.0, 1.0, 1.0, 1.0, 1.0, 1.0, 1.0, 1.0, 1.0, 1.0, 0.8362612891253248, 0.9915254237288136, 1.0, 1.0, 1.0, 1.0, 1.0, 1.0, 1.0, 1.0, 1.0, 1.0, 1.0, 1.0, 1.0, 1.0] [0.6740237691001698, 0.7198641765704583, 0.7215619694397284, 0.7385398981324277, 0.7623089983022072, 0.7606112054329371, 0.7724957555178268, 0.7657045840407469, 0.764006791171477, 0.7775891341256367, 0.765704584040747, 0.7691001697792869, 0.7758913412563666, 0.7724957555178268, 0.7606112054329373, 0.7657045840407469, 0.7741935483870968, 0.7470288624787775, 0.7215619694397283, 0.7572156196943973, 0.7453310696095076, 0.7504244482173175, 0.7521222410865874, 0.7538200339558574, 0.7555178268251274, 0.7521222410865874, 0.7555178268251274, 0.7589134125636673, 0.7589134125636673, 0.7606112054329371, 0.7640067911714771, 0.7623089983022071, 0.7589134125636673, 0.769100169779287]\n",
      "--Start Epoch 35/40--\n"
     ]
    },
    {
     "name": "stderr",
     "output_type": "stream",
     "text": [
      "/home/lizx43/anaconda3/envs/gigapath/lib/python3.9/site-packages/torch_geometric/warnings.py:11: UserWarning: The usage of `scatter(reduce='max')` can be accelerated via the 'torch-scatter' package, but it was not found\n",
      "  warnings.warn(message)\n"
     ]
    },
    {
     "name": "stdout",
     "output_type": "stream",
     "text": [
      "Epoch 35/40, Train Loss: 0.0013, Acc: 0.9899, F1: 1.0000, AUC: 1.0000\n",
      "Epoch 35/40, Valid Loss: 1.4422, Acc: 0.7000, F1: 0.6983, AUC: 0.7657\n",
      "[0.5035259185945813, 0.5, 0.6294692564641842, 0.7481133242607944, 0.830384758134356, 0.9224297909192131, 0.967277001113448, 1.0, 1.0, 1.0, 1.0, 1.0, 1.0, 1.0, 1.0, 1.0, 1.0, 1.0, 0.8362612891253248, 0.9915254237288136, 1.0, 1.0, 1.0, 1.0, 1.0, 1.0, 1.0, 1.0, 1.0, 1.0, 1.0, 1.0, 1.0, 1.0, 1.0] [0.6740237691001698, 0.7198641765704583, 0.7215619694397284, 0.7385398981324277, 0.7623089983022072, 0.7606112054329371, 0.7724957555178268, 0.7657045840407469, 0.764006791171477, 0.7775891341256367, 0.765704584040747, 0.7691001697792869, 0.7758913412563666, 0.7724957555178268, 0.7606112054329373, 0.7657045840407469, 0.7741935483870968, 0.7470288624787775, 0.7215619694397283, 0.7572156196943973, 0.7453310696095076, 0.7504244482173175, 0.7521222410865874, 0.7538200339558574, 0.7555178268251274, 0.7521222410865874, 0.7555178268251274, 0.7589134125636673, 0.7589134125636673, 0.7606112054329371, 0.7640067911714771, 0.7623089983022071, 0.7589134125636673, 0.769100169779287, 0.765704584040747]\n",
      "--Start Epoch 36/40--\n"
     ]
    },
    {
     "name": "stderr",
     "output_type": "stream",
     "text": [
      "/home/lizx43/anaconda3/envs/gigapath/lib/python3.9/site-packages/torch_geometric/warnings.py:11: UserWarning: The usage of `scatter(reduce='max')` can be accelerated via the 'torch-scatter' package, but it was not found\n",
      "  warnings.warn(message)\n"
     ]
    },
    {
     "name": "stdout",
     "output_type": "stream",
     "text": [
      "Epoch 36/40, Train Loss: 0.0011, Acc: 0.9899, F1: 1.0000, AUC: 1.0000\n",
      "Epoch 36/40, Valid Loss: 1.4309, Acc: 0.6800, F1: 0.6761, AUC: 0.7555\n",
      "[0.5035259185945813, 0.5, 0.6294692564641842, 0.7481133242607944, 0.830384758134356, 0.9224297909192131, 0.967277001113448, 1.0, 1.0, 1.0, 1.0, 1.0, 1.0, 1.0, 1.0, 1.0, 1.0, 1.0, 0.8362612891253248, 0.9915254237288136, 1.0, 1.0, 1.0, 1.0, 1.0, 1.0, 1.0, 1.0, 1.0, 1.0, 1.0, 1.0, 1.0, 1.0, 1.0, 1.0] [0.6740237691001698, 0.7198641765704583, 0.7215619694397284, 0.7385398981324277, 0.7623089983022072, 0.7606112054329371, 0.7724957555178268, 0.7657045840407469, 0.764006791171477, 0.7775891341256367, 0.765704584040747, 0.7691001697792869, 0.7758913412563666, 0.7724957555178268, 0.7606112054329373, 0.7657045840407469, 0.7741935483870968, 0.7470288624787775, 0.7215619694397283, 0.7572156196943973, 0.7453310696095076, 0.7504244482173175, 0.7521222410865874, 0.7538200339558574, 0.7555178268251274, 0.7521222410865874, 0.7555178268251274, 0.7589134125636673, 0.7589134125636673, 0.7606112054329371, 0.7640067911714771, 0.7623089983022071, 0.7589134125636673, 0.769100169779287, 0.765704584040747, 0.7555178268251274]\n",
      "--Start Epoch 37/40--\n"
     ]
    },
    {
     "name": "stderr",
     "output_type": "stream",
     "text": [
      "/home/lizx43/anaconda3/envs/gigapath/lib/python3.9/site-packages/torch_geometric/warnings.py:11: UserWarning: The usage of `scatter(reduce='max')` can be accelerated via the 'torch-scatter' package, but it was not found\n",
      "  warnings.warn(message)\n"
     ]
    },
    {
     "name": "stdout",
     "output_type": "stream",
     "text": [
      "Epoch 37/40, Train Loss: 0.0014, Acc: 0.9899, F1: 1.0000, AUC: 1.0000\n",
      "Epoch 37/40, Valid Loss: 1.3638, Acc: 0.6800, F1: 0.6800, AUC: 0.7742\n",
      "[0.5035259185945813, 0.5, 0.6294692564641842, 0.7481133242607944, 0.830384758134356, 0.9224297909192131, 0.967277001113448, 1.0, 1.0, 1.0, 1.0, 1.0, 1.0, 1.0, 1.0, 1.0, 1.0, 1.0, 0.8362612891253248, 0.9915254237288136, 1.0, 1.0, 1.0, 1.0, 1.0, 1.0, 1.0, 1.0, 1.0, 1.0, 1.0, 1.0, 1.0, 1.0, 1.0, 1.0, 1.0] [0.6740237691001698, 0.7198641765704583, 0.7215619694397284, 0.7385398981324277, 0.7623089983022072, 0.7606112054329371, 0.7724957555178268, 0.7657045840407469, 0.764006791171477, 0.7775891341256367, 0.765704584040747, 0.7691001697792869, 0.7758913412563666, 0.7724957555178268, 0.7606112054329373, 0.7657045840407469, 0.7741935483870968, 0.7470288624787775, 0.7215619694397283, 0.7572156196943973, 0.7453310696095076, 0.7504244482173175, 0.7521222410865874, 0.7538200339558574, 0.7555178268251274, 0.7521222410865874, 0.7555178268251274, 0.7589134125636673, 0.7589134125636673, 0.7606112054329371, 0.7640067911714771, 0.7623089983022071, 0.7589134125636673, 0.769100169779287, 0.765704584040747, 0.7555178268251274, 0.7741935483870968]\n",
      "--Start Epoch 38/40--\n"
     ]
    },
    {
     "name": "stderr",
     "output_type": "stream",
     "text": [
      "/home/lizx43/anaconda3/envs/gigapath/lib/python3.9/site-packages/torch_geometric/warnings.py:11: UserWarning: The usage of `scatter(reduce='max')` can be accelerated via the 'torch-scatter' package, but it was not found\n",
      "  warnings.warn(message)\n"
     ]
    },
    {
     "name": "stdout",
     "output_type": "stream",
     "text": [
      "Epoch 38/40, Train Loss: 0.1253, Acc: 0.9747, F1: 0.9847, AUC: 0.9794\n",
      "Epoch 38/40, Valid Loss: 1.8436, Acc: 0.6200, F1: 0.6180, AUC: 0.5722\n",
      "[0.5035259185945813, 0.5, 0.6294692564641842, 0.7481133242607944, 0.830384758134356, 0.9224297909192131, 0.967277001113448, 1.0, 1.0, 1.0, 1.0, 1.0, 1.0, 1.0, 1.0, 1.0, 1.0, 1.0, 0.8362612891253248, 0.9915254237288136, 1.0, 1.0, 1.0, 1.0, 1.0, 1.0, 1.0, 1.0, 1.0, 1.0, 1.0, 1.0, 1.0, 1.0, 1.0, 1.0, 1.0, 0.9794012124211308] [0.6740237691001698, 0.7198641765704583, 0.7215619694397284, 0.7385398981324277, 0.7623089983022072, 0.7606112054329371, 0.7724957555178268, 0.7657045840407469, 0.764006791171477, 0.7775891341256367, 0.765704584040747, 0.7691001697792869, 0.7758913412563666, 0.7724957555178268, 0.7606112054329373, 0.7657045840407469, 0.7741935483870968, 0.7470288624787775, 0.7215619694397283, 0.7572156196943973, 0.7453310696095076, 0.7504244482173175, 0.7521222410865874, 0.7538200339558574, 0.7555178268251274, 0.7521222410865874, 0.7555178268251274, 0.7589134125636673, 0.7589134125636673, 0.7606112054329371, 0.7640067911714771, 0.7623089983022071, 0.7589134125636673, 0.769100169779287, 0.765704584040747, 0.7555178268251274, 0.7741935483870968, 0.5721561969439728]\n",
      "--Start Epoch 39/40--\n"
     ]
    },
    {
     "name": "stderr",
     "output_type": "stream",
     "text": [
      "/home/lizx43/anaconda3/envs/gigapath/lib/python3.9/site-packages/torch_geometric/warnings.py:11: UserWarning: The usage of `scatter(reduce='max')` can be accelerated via the 'torch-scatter' package, but it was not found\n",
      "  warnings.warn(message)\n"
     ]
    },
    {
     "name": "stdout",
     "output_type": "stream",
     "text": [
      "Epoch 39/40, Train Loss: 0.4709, Acc: 0.7727, F1: 0.7877, AUC: 0.7852\n",
      "Epoch 39/40, Valid Loss: 0.7805, Acc: 0.6200, F1: 0.6254, AUC: 0.7012\n",
      "[0.5035259185945813, 0.5, 0.6294692564641842, 0.7481133242607944, 0.830384758134356, 0.9224297909192131, 0.967277001113448, 1.0, 1.0, 1.0, 1.0, 1.0, 1.0, 1.0, 1.0, 1.0, 1.0, 1.0, 0.8362612891253248, 0.9915254237288136, 1.0, 1.0, 1.0, 1.0, 1.0, 1.0, 1.0, 1.0, 1.0, 1.0, 1.0, 1.0, 1.0, 1.0, 1.0, 1.0, 1.0, 0.9794012124211308, 0.7851663986143759] [0.6740237691001698, 0.7198641765704583, 0.7215619694397284, 0.7385398981324277, 0.7623089983022072, 0.7606112054329371, 0.7724957555178268, 0.7657045840407469, 0.764006791171477, 0.7775891341256367, 0.765704584040747, 0.7691001697792869, 0.7758913412563666, 0.7724957555178268, 0.7606112054329373, 0.7657045840407469, 0.7741935483870968, 0.7470288624787775, 0.7215619694397283, 0.7572156196943973, 0.7453310696095076, 0.7504244482173175, 0.7521222410865874, 0.7538200339558574, 0.7555178268251274, 0.7521222410865874, 0.7555178268251274, 0.7589134125636673, 0.7589134125636673, 0.7606112054329371, 0.7640067911714771, 0.7623089983022071, 0.7589134125636673, 0.769100169779287, 0.765704584040747, 0.7555178268251274, 0.7741935483870968, 0.5721561969439728, 0.7011884550084889]\n",
      "--Start Epoch 40/40--\n"
     ]
    },
    {
     "name": "stderr",
     "output_type": "stream",
     "text": [
      "/home/lizx43/anaconda3/envs/gigapath/lib/python3.9/site-packages/torch_geometric/warnings.py:11: UserWarning: The usage of `scatter(reduce='max')` can be accelerated via the 'torch-scatter' package, but it was not found\n",
      "  warnings.warn(message)\n"
     ]
    },
    {
     "name": "stdout",
     "output_type": "stream",
     "text": [
      "Epoch 40/40, Train Loss: 0.1893, Acc: 0.9141, F1: 0.9246, AUC: 0.9260\n",
      "Epoch 40/40, Valid Loss: 0.9234, Acc: 0.6400, F1: 0.6429, AUC: 0.6961\n",
      "[0.5035259185945813, 0.5, 0.6294692564641842, 0.7481133242607944, 0.830384758134356, 0.9224297909192131, 0.967277001113448, 1.0, 1.0, 1.0, 1.0, 1.0, 1.0, 1.0, 1.0, 1.0, 1.0, 1.0, 0.8362612891253248, 0.9915254237288136, 1.0, 1.0, 1.0, 1.0, 1.0, 1.0, 1.0, 1.0, 1.0, 1.0, 1.0, 1.0, 1.0, 1.0, 1.0, 1.0, 1.0, 0.9794012124211308, 0.7851663986143759, 0.9259557095137944] [0.6740237691001698, 0.7198641765704583, 0.7215619694397284, 0.7385398981324277, 0.7623089983022072, 0.7606112054329371, 0.7724957555178268, 0.7657045840407469, 0.764006791171477, 0.7775891341256367, 0.765704584040747, 0.7691001697792869, 0.7758913412563666, 0.7724957555178268, 0.7606112054329373, 0.7657045840407469, 0.7741935483870968, 0.7470288624787775, 0.7215619694397283, 0.7572156196943973, 0.7453310696095076, 0.7504244482173175, 0.7521222410865874, 0.7538200339558574, 0.7555178268251274, 0.7521222410865874, 0.7555178268251274, 0.7589134125636673, 0.7589134125636673, 0.7606112054329371, 0.7640067911714771, 0.7623089983022071, 0.7589134125636673, 0.769100169779287, 0.765704584040747, 0.7555178268251274, 0.7741935483870968, 0.5721561969439728, 0.7011884550084889, 0.6960950764006791]\n",
      "[0.5035259185945813, 0.5, 0.6294692564641842, 0.7481133242607944, 0.830384758134356, 0.9224297909192131, 0.967277001113448, 1.0, 1.0, 1.0, 1.0, 1.0, 1.0, 1.0, 1.0, 1.0, 1.0, 1.0, 0.8362612891253248, 0.9915254237288136, 1.0, 1.0, 1.0, 1.0, 1.0, 1.0, 1.0, 1.0, 1.0, 1.0, 1.0, 1.0, 1.0, 1.0, 1.0, 1.0, 1.0, 0.9794012124211308, 0.7851663986143759, 0.9259557095137944] [0.6740237691001698, 0.7198641765704583, 0.7215619694397284, 0.7385398981324277, 0.7623089983022072, 0.7606112054329371, 0.7724957555178268, 0.7657045840407469, 0.764006791171477, 0.7775891341256367, 0.765704584040747, 0.7691001697792869, 0.7758913412563666, 0.7724957555178268, 0.7606112054329373, 0.7657045840407469, 0.7741935483870968, 0.7470288624787775, 0.7215619694397283, 0.7572156196943973, 0.7453310696095076, 0.7504244482173175, 0.7521222410865874, 0.7538200339558574, 0.7555178268251274, 0.7521222410865874, 0.7555178268251274, 0.7589134125636673, 0.7589134125636673, 0.7606112054329371, 0.7640067911714771, 0.7623089983022071, 0.7589134125636673, 0.769100169779287, 0.765704584040747, 0.7555178268251274, 0.7741935483870968, 0.5721561969439728, 0.7011884550084889, 0.6960950764006791]\n"
     ]
    }
   ],
   "source": [
    "# Instantiate your model\n",
    "from GNN import MultiResolutionGraphModel\n",
    "from torch import manual_seed\n",
    "from torch_geometric.loader import DataLoader\n",
    "from torch.utils.data import Subset\n",
    "\n",
    "from sklearn.model_selection import StratifiedShuffleSplit\n",
    "from sklearn.metrics import roc_curve, auc\n",
    "\n",
    "\n",
    "# Free up GPU memory\n",
    "device = torch.device('cuda' if torch.cuda.is_available() else 'cpu')\n",
    "torch.cuda.empty_cache()\n",
    "# manual_seed(42)\n",
    "# Instantiate your model\n",
    "model = MultiResolutionGraphModel(num_features=1536, latent_dim=8, num_classes=2).to(device)\n",
    "# Define the optimizer and criterion\n",
    "optimizer = torch.optim.Adam(model.parameters(), lr=1e-4, weight_decay=0.001)  # Added weight decay\n",
    "class_weights = class_weights.to(device)\n",
    "# criterion = nn.CrossEntropyLoss(weight=class_weights, reduction='sum')\n",
    "criterion = nn.CrossEntropyLoss(weight=class_weights)\n",
    "train_loader = None\n",
    "val_loader = None\n",
    "stratified_split = StratifiedShuffleSplit(n_splits=1, test_size=0.2, random_state=42)\n",
    "labels = np.array(responses)\n",
    "indicators = np.array(indications)  # Assuming 'indicator' is an attribute\n",
    "# stratification_targets = np.array([f\"{label}_{indicator}\" for label, indicator in zip(labels, indicators)])\n",
    "\n",
    "for train_index, test_index in stratified_split.split(data_list, indicators):\n",
    "# for train_index, test_index in stratified_split.split(data_list, stratification_targets):\n",
    "    train_loader = DataLoader(Subset(data_list, train_index), batch_size=1, shuffle=True)\n",
    "    val_loader = DataLoader(Subset(data_list, test_index), batch_size=1, shuffle=False)\n",
    "\n",
    "# train_dataset, val_dataset = train_test_split(data_list, test_size=0.2, random_state=42)\n",
    "# train_loader = DataLoader(train_dataset, batch_size=1, shuffle=True)\n",
    "# val_loader = DataLoader(val_dataset, batch_size=1, shuffle=False)\n",
    "num_epochs = 40\n",
    "train_auc_arr = []\n",
    "val_auc_arr = []\n",
    "\n",
    "for epoch in range(num_epochs):\n",
    "    print(f'--Start Epoch {epoch+1}/{num_epochs}--')\n",
    "    train_loss, train_acc, train_f1, train_auc, train_labels, train_preds = train_gpu(model, train_loader, optimizer, criterion, device)\n",
    "    val_loss, val_acc, val_f1, val_auc, val_labels, val_preds, val_probs = valid_gpu(model, val_loader, criterion, device) \n",
    "    print(f'Epoch {epoch + 1}/{num_epochs}, Train Loss: {train_loss:.4f}, Acc: {train_acc:.4f}, F1: {train_f1:.4f}, AUC: {train_auc:.4f}')\n",
    "    print(f'Epoch {epoch + 1}/{num_epochs}, Valid Loss: {val_loss:.4f}, Acc: {val_acc:.4f}, F1: {val_f1:.4f}, AUC: {val_auc:.4f}')\n",
    "    train_auc_arr.append(train_auc)\n",
    "    val_auc_arr.append(val_auc)\n",
    "    if epoch > 10: #and epoch % 15 == 0:\n",
    "        # plot_confusion_matrix(train_labels, train_preds, title=f'Training Confusion Matrix Epoch {epoch+1}')\n",
    "        plot_confusion_matrix(val_labels, val_preds, title=f'Validation Confusion Matrix Epoch {epoch+1}')\n",
    "    fpr, tpr, _ = roc_curve(val_labels, val_probs)\n",
    "    roc_auc = auc(fpr, tpr)\n",
    "\n",
    "    # Plot ROC curve\n",
    "    if epoch > 10  and epoch % 15 == 0:\n",
    "        plt.figure()\n",
    "        plt.plot(fpr, tpr, color='darkorange', lw=2, label=f'ROC curve (area = {roc_auc:.2f})')\n",
    "        plt.plot([0, 1], [0, 1], color='navy', lw=2, linestyle='--')\n",
    "        plt.xlim([0.0, 1.0])\n",
    "        plt.ylim([0.0, 1.05])\n",
    "        plt.xlabel('False Positive Rate')\n",
    "        plt.ylabel('True Positive Rate')\n",
    "        plt.title('Receiver Operating Characteristic (ROC) Curve')\n",
    "        plt.legend(loc=\"lower right\")\n",
    "        plt.show()\n",
    "\n",
    "    print(train_auc_arr, val_auc_arr)\n",
    "\n",
    "    # if train_auc>0.73 and val_auc>0.73 and train_loss<0.001:\n",
    "    #     save_model_pki(model, 'save_model1.pki')\n",
    "    #     break\n",
    "print(train_auc_arr, val_auc_arr)"
   ]
  },
  {
   "cell_type": "code",
   "execution_count": 11,
   "metadata": {},
   "outputs": [],
   "source": [
    "train_auc_arr_1=[0.5007046388725778, 0.5889019377568997, 0.7194362889019378, 0.7885496183206107, 0.8500880798590723, 0.953904873752202, 0.9577216676453318, 0.976923076923077, 0.9884908984145625, 1.0, 0.9846741045214328, 0.9923076923076923, 1.0, 1.0, 1.0, 1.0, 1.0, 1.0, 1.0, 1.0, 0.9577803875513798, 0.9657662947739284, 0.9731062830299472, 0.9961832061068702, 1.0, 1.0, 1.0, 1.0, 1.0, 1.0, 1.0, 1.0, 1.0, 1.0, 1.0, 1.0, 1.0, 1.0, 1.0, 1.0]\n",
    "val_auc_arr_1 = [0.6704781704781705, 0.7016632016632016, 0.7016632016632016, 0.6403326403326404, 0.6153846153846154, 0.6268191268191268, 0.5883575883575884, 0.7536382536382537, 0.7151767151767151, 0.7016632016632016, 0.6632016632016633, 0.7920997920997921, 0.7785862785862786, 0.6767151767151768, 0.7151767151767151, 0.7536382536382537, 0.7536382536382537, 0.7536382536382537, 0.7536382536382537, 0.7671517671517671, 0.6413721413721414, 0.6361746361746361, 0.7016632016632016, 0.6382536382536382, 0.7785862785862786, 0.7536382536382537, 0.7536382536382537, 0.7536382536382537, 0.7920997920997921, 0.7785862785862786, 0.7920997920997921, 0.7536382536382537, 0.7536382536382537, 0.7785862785862786, 0.7785862785862786, 0.7785862785862786, 0.7016632016632016, 0.7151767151767151, 0.7151767151767151, 0.7286902286902286]\n",
    "\n",
    "train_auc_arr_2 = [0.4573643410852713, 0.53984268125855, 0.667920656634747, 0.80375056999544, 0.8734040127678978, 0.9330255357957136, 0.9628362973096215, 0.9887710898312814, 1.0, 1.0, 1.0, 1.0, 1.0, 1.0, 1.0, 1.0, 1.0, 0.887311901504788, 0.9361035111719106, 1.0, 1.0, 1.0, 1.0, 1.0, 1.0, 1.0, 1.0, 1.0, 1.0, 1.0, 1.0, 1.0, 1.0, 1.0, 1.0, 0.9701892384860921, 0.8652530779753762, 0.9516073871409029, 1.0, 1.0] \n",
    "val_auc_arr_2 = [0.5, 0.48717948717948717, 0.6089743589743589, 0.5115384615384616, 0.5858974358974359, 0.7192307692307692, 0.6230769230769231, 0.7205128205128205, 0.6846153846153846, 0.6102564102564102, 0.6230769230769231, 0.6230769230769231, 0.6602564102564102, 0.6230769230769231, 0.6230769230769231, 0.673076923076923, 0.6230769230769231, 0.5858974358974359, 0.7730769230769231, 0.7730769230769231, 0.7730769230769231, 0.7602564102564102, 0.7474358974358974, 0.7602564102564102, 0.7602564102564102, 0.7602564102564102, 0.7474358974358974, 0.7602564102564102, 0.7474358974358974, 0.7602564102564102, 0.7730769230769231, 0.7474358974358974, 0.7602564102564102, 0.7730769230769231, 0.7474358974358974, 0.6076923076923078, 0.7346153846153846, 0.6717948717948717, 0.6974358974358975, 0.7102564102564103]\n",
    "\n",
    "train_auc_arr_3 = [0.5092777451556078, 0.5, 0.5, 0.5, 0.5309453904873752, 0.6269524368761009, 0.6463887257780387, 0.731238990017616, 0.8809160305343512, 0.950029359953024, 0.9884908984145625, 0.9846153846153847, 1.0, 1.0, 1.0, 1.0, 1.0, 1.0, 1.0, 1.0, 1.0, 1.0, 0.976981796829125, 0.9578978273634762, 0.9462712859659425, 1.0, 1.0, 1.0, 1.0, 1.0, 1.0, 1.0, 1.0, 1.0, 1.0, 1.0, 1.0, 1.0, 1.0, 1.0] \n",
    "val_auc_arr_3 = [0.5, 0.5, 0.5, 0.5, 0.5883575883575884, 0.5634095634095635, 0.7016632016632016, 0.6517671517671517, 0.604989604989605, 0.6361746361746361, 0.5883575883575884, 0.656964656964657, 0.5841995841995842, 0.6091476091476091, 0.6226611226611227, 0.5977130977130977, 0.6112266112266111, 0.6091476091476091, 0.6361746361746361, 0.5977130977130977, 0.5977130977130977, 0.5997920997920998, 0.5, 0.6226611226611227, 0.5841995841995842, 0.5956340956340956, 0.6226611226611227, 0.6496881496881497, 0.6496881496881497, 0.6496881496881497, 0.6205821205821205, 0.6496881496881497, 0.6496881496881497, 0.6496881496881497, 0.6496881496881497, 0.6496881496881497, 0.6112266112266111, 0.6496881496881497, 0.6112266112266111, 0.6496881496881497]\n",
    "\n",
    "train_auc_arr_4 =  [0.5, 0.5, 0.5, 0.5, 0.5333333333333333, 0.5666666666666667, 0.7619047619047619, 0.6952380952380952, 0.6952380952380952, 0.6857142857142856, 0.6761904761904761, 0.6761904761904761, 0.6666666666666666, 0.6476190476190476, 0.6333333333333334, 0.6761904761904761, 0.6333333333333334, 0.661904761904762, 0.6476190476190476, 0.6476190476190476, 0.6047619047619048, 0.6619047619047619, 0.7380952380952381, 0.7142857142857142, 0.7142857142857142, 0.7142857142857142, 0.7000000000000002, 0.7000000000000002, 0.7000000000000002, 0.6857142857142857, 0.6809523809523809, 0.7000000000000002, 0.6809523809523809, 0.7142857142857142, 0.7000000000000002, 0.6857142857142857, 0.7000000000000002, 0.7047619047619048, 0.6809523809523809, 0.6952380952380952]\n",
    "val_auc_arr_4 = [0.49749373433583965, 0.5, 0.5, 0.49624060150375937, 0.6553884711779449, 0.8663324979114453, 0.9331662489557226, 0.984544695071011, 0.9883040935672515, 0.9962406015037594, 0.9962406015037594, 1.0, 1.0, 1.0, 1.0, 1.0, 1.0, 1.0, 1.0, 1.0, 0.9920634920634921, 0.8826232247284879, 0.9532163742690059, 1.0, 1.0, 1.0, 1.0, 1.0, 1.0, 1.0, 1.0, 1.0, 1.0, 1.0, 1.0, 1.0, 1.0, 1.0, 1.0, 1.0]\n",
    "\n",
    "train_auc_arr_5 = [0.49615384615384617, 0.5553960964408726, 0.707577497129736, 0.8242824339839265, 0.9172215843857634, 0.9549942594718716, 1.0, 1.0, 1.0, 1.0, 1.0, 1.0, 1.0, 1.0, 1.0, 1.0, 1.0, 1.0, 0.8312858783008036, 0.9285304247990815, 0.9961538461538462, 0.9925373134328358, 1.0, 1.0, 1.0, 1.0, 1.0, 1.0, 1.0, 1.0, 1.0, 1.0, 1.0, 1.0, 1.0, 1.0, 1.0, 1.0, 1.0, 0.8719862227324914]\n",
    "val_auc_arr_5 =[0.5, 0.5191387559808612, 0.5191387559808612, 0.6997607655502392, 0.6100478468899522, 0.6291866028708134, 0.5837320574162679, 0.6351674641148325, 0.5837320574162679, 0.6028708133971292, 0.5897129186602871, 0.6351674641148325, 0.6028708133971292, 0.5574162679425836, 0.6806220095693779, 0.6806220095693779, 0.7392344497607655, 0.4796650717703349, 0.7320574162679427, 0.576555023923445, 0.6674641148325359, 0.6543062200956937, 0.6674641148325359, 0.6411483253588517, 0.6866028708133971, 0.6866028708133971, 0.6866028708133971, 0.6543062200956937, 0.6866028708133971, 0.6866028708133971, 0.6088516746411483, 0.6866028708133971, 0.6997607655502392, 0.7320574162679427, 0.6351674641148325, 0.6220095693779905, 0.6220095693779905, 0.6866028708133971, 0.5897129186602871, 0.6602870813397128]\n"
   ]
  },
  {
   "cell_type": "code",
   "execution_count": 12,
   "metadata": {},
   "outputs": [
    {
     "data": {
      "image/png": "[encoded data removed]",
      "text/plain": [
       "<Figure size 600x600 with 1 Axes>"
      ]
     },
     "metadata": {},
     "output_type": "display_data"
    }
   ],
   "source": [
    "def calculate_mean_std(auc_all, num_epochs):\n",
    "    auc_all = np.array(auc_all)\n",
    "    mean_auc = np.mean(auc_all, axis=0)\n",
    "    std_auc = np.std(auc_all, axis=0)\n",
    "    return mean_auc, std_auc\n",
    "\n",
    "# train_auc_all=[train_auc_arr_1, train_auc_arr_2, train_auc_arr_3]\n",
    "# val_auc_all=[val_auc_arr_1, val_auc_arr_2, val_auc_arr_3]\n",
    "train_auc_all=[train_auc_arr_1,train_auc_arr_2, train_auc_arr_3, train_auc_arr_4]\n",
    "val_auc_all=[val_auc_arr_1, val_auc_arr_2, val_auc_arr_3, val_auc_arr_4]\n",
    "\n",
    "mean_train_auc, std_train_auc = calculate_mean_std(train_auc_all, 40)\n",
    "mean_val_auc, std_val_auc = calculate_mean_std(val_auc_all, 40)\n",
    "\n",
    "# def plot_mean_auc_curves(mean_train_auc, std_train_auc, mean_val_auc, std_val_auc, num_epochs):\n",
    "def plot_mean_auc_curves(mean_train_auc, mean_val_auc, num_epochs):\n",
    "\n",
    "    epochs = np.arange(1, num_epochs + 1)\n",
    "    \n",
    "    plt.figure(figsize=(6, 6))\n",
    "\n",
    "    # Plot mean AUC for training with standard deviation\n",
    "    plt.plot(epochs, mean_train_auc, label='Train AUC', color='blue')\n",
    "    # plt.fill_between(epochs, mean_train_auc - std_train_auc, mean_train_auc + std_train_auc, color='blue', alpha=0.2)\n",
    "\n",
    "    # Plot mean AUC for validation with standard deviation\n",
    "    plt.plot(epochs, mean_val_auc, label='Validation AUC', color='orange')\n",
    "    # plt.fill_between(epochs, mean_val_auc - std_val_auc, mean_val_auc + std_val_auc, color='orange', alpha=0.2)\n",
    "    plt.ylim(0.3, 1.2)\n",
    "\n",
    "    plt.xlabel('Epoch')\n",
    "    plt.ylabel('AUC')\n",
    "    plt.title('Mean AUC Curves')\n",
    "    plt.legend()\n",
    "    plt.show()\n",
    "\n",
    "# Plot the mean AUC curves\n",
    "plot_mean_auc_curves(mean_train_auc, mean_val_auc, 40)\n"
   ]
  },
  {
   "cell_type": "code",
   "execution_count": 17,
   "metadata": {},
   "outputs": [],
   "source": [
    "from sklearn.model_selection import KFold\n",
    "from torch.utils.data import Subset\n",
    "from GNN import MultiResolutionGraphModel\n",
    "from sklearn.model_selection import StratifiedKFold\n",
    "\n",
    "def cross_validation_and_sensitivity_analysis(dataset, num_features, latent_dim, num_classes, num_folds=5, num_epochs=50, learning_rates=[0.001], weight_decays=[1e-5]):\n",
    "    device = torch.device('cuda' if torch.cuda.is_available() else 'cpu')\n",
    "    torch.cuda.empty_cache()\n",
    "    # kf = KFold(n_splits=num_folds, shuffle=True, random_state=42)\n",
    "    labels = np.array(responses)\n",
    "    indicators = np.array(indications)  # Assuming 'indicator' is an attribute\n",
    "    \n",
    "    stratification_targets = np.array([f\"{label}_{indicator}\" for label, indicator in zip(labels, indicators)])\n",
    "    # stratification_targets=indicators\n",
    "    # manual_seed(42)\n",
    "    skf = StratifiedKFold(n_splits=num_folds, shuffle=True, random_state=623)\n",
    "    results = []\n",
    "    train_auc_all = []\n",
    "    val_auc_all = []\n",
    "    for lr in learning_rates:\n",
    "        for wd in weight_decays:\n",
    "            fold_results = []\n",
    "            fold_train_auc = []\n",
    "            fold_val_auc = []\n",
    "            # for fold, (train_idx, val_idx) in enumerate(kf.split(dataset)):\n",
    "            for fold, (train_idx, val_idx) in enumerate(skf.split(np.zeros(len(stratification_targets)), stratification_targets)):\n",
    "                train_subset = Subset(dataset, train_idx)\n",
    "                val_subset = Subset(dataset, val_idx)\n",
    "                train_loader = DataLoader(train_subset, batch_size=1, shuffle=True)\n",
    "                val_loader = DataLoader(val_subset, batch_size=1, shuffle=False)\n",
    "\n",
    "                model = MultiResolutionGraphModel(num_features=num_features, latent_dim=latent_dim, num_classes=num_classes).to(device)\n",
    "\n",
    "                # Compute class weights for the current fold\n",
    "                all_labels = torch.cat([data[0].y for data in train_loader.dataset]).long()\n",
    "                class_counts = torch.bincount(all_labels)\n",
    "                class_weights = (1.0 / class_counts.float()).to(device)\n",
    "                criterion = nn.CrossEntropyLoss(weight=class_weights)\n",
    "                optimizer = torch.optim.Adam(model.parameters(), lr=lr, weight_decay=wd)\n",
    "                single_fold_res = []\n",
    "                single_fold_train_auc = []\n",
    "                single_fold_val_auc = []\n",
    "                print('----Fold', fold, lr, wd)\n",
    "\n",
    "                for epoch in range(num_epochs):\n",
    "                    train_loss, train_acc, train_f1, train_auc, train_labels, train_preds  = train_gpu(model, train_loader, optimizer, criterion, device)\n",
    "                    val_loss, val_acc, val_f1, val_auc, val_labels, val_preds, val_probs = valid_gpu(model, val_loader, criterion, device)\n",
    "                    print(f'Epoch {epoch + 1}/{num_epochs}, Train Loss: {train_loss:.4f}, Acc: {train_acc:.4f}, F1: {train_f1:.4f}, AUC: {train_auc:.4f}')\n",
    "                    print(f'Epoch {epoch + 1}/{num_epochs}, Valid Loss: {val_loss:.4f}, Acc: {val_acc:.4f}, F1: {val_f1:.4f}, AUC: {val_auc:.4f}')\n",
    "                    single_fold_res.append((train_loss, train_acc, train_f1, train_auc, val_loss, val_acc, val_f1, val_auc))\n",
    "                    single_fold_train_auc.append(train_auc)\n",
    "                    single_fold_val_auc.append(val_auc)\n",
    "                    fold_results.append((train_loss, train_acc, train_f1, train_auc, val_loss, val_acc, val_f1, val_auc))\n",
    "                fold_train_auc.append(single_fold_train_auc)\n",
    "                fold_val_auc.append(single_fold_val_auc)\n",
    "            train_auc_all.append(fold_train_auc)\n",
    "            val_auc_all.append(fold_val_auc)\n",
    "            print(fold_train_auc)\n",
    "            print(fold_val_auc)\n",
    "\n",
    "            avg_fold_results = np.mean(fold_results, axis=0)\n",
    "\n",
    "            results.append((lr, wd, avg_fold_results))\n",
    "    return results\n"
   ]
  },
  {
   "cell_type": "code",
   "execution_count": 18,
   "metadata": {},
   "outputs": [
    {
     "name": "stdout",
     "output_type": "stream",
     "text": [
      "----Fold 0 0.0001 0.001\n"
     ]
    },
    {
     "name": "stderr",
     "output_type": "stream",
     "text": [
      "/home/lizx43/anaconda3/envs/gigapath/lib/python3.9/site-packages/torch_geometric/warnings.py:11: UserWarning: The usage of `scatter(reduce='max')` can be accelerated via the 'torch-scatter' package, but it was not found\n",
      "  warnings.warn(message)\n"
     ]
    },
    {
     "name": "stdout",
     "output_type": "stream",
     "text": [
      "Epoch 1/40, Train Loss: 0.6283, Acc: 0.6869, F1: 0.5685, AUC: 0.5000\n",
      "Epoch 1/40, Valid Loss: 0.6497, Acc: 0.6400, F1: 0.4995, AUC: 0.6840\n"
     ]
    },
    {
     "name": "stderr",
     "output_type": "stream",
     "text": [
      "/home/lizx43/anaconda3/envs/gigapath/lib/python3.9/site-packages/torch_geometric/warnings.py:11: UserWarning: The usage of `scatter(reduce='max')` can be accelerated via the 'torch-scatter' package, but it was not found\n",
      "  warnings.warn(message)\n"
     ]
    },
    {
     "name": "stdout",
     "output_type": "stream",
     "text": [
      "Epoch 2/40, Train Loss: 0.6046, Acc: 0.6869, F1: 0.5685, AUC: 0.5000\n",
      "Epoch 2/40, Valid Loss: 0.6578, Acc: 0.6400, F1: 0.4995, AUC: 0.6997\n"
     ]
    },
    {
     "name": "stderr",
     "output_type": "stream",
     "text": [
      "/home/lizx43/anaconda3/envs/gigapath/lib/python3.9/site-packages/torch_geometric/warnings.py:11: UserWarning: The usage of `scatter(reduce='max')` can be accelerated via the 'torch-scatter' package, but it was not found\n",
      "  warnings.warn(message)\n"
     ]
    },
    {
     "name": "stdout",
     "output_type": "stream",
     "text": [
      "Epoch 3/40, Train Loss: 0.5981, Acc: 0.6869, F1: 0.5685, AUC: 0.5000\n",
      "Epoch 3/40, Valid Loss: 0.6383, Acc: 0.6400, F1: 0.4995, AUC: 0.6875\n"
     ]
    },
    {
     "name": "stderr",
     "output_type": "stream",
     "text": [
      "/home/lizx43/anaconda3/envs/gigapath/lib/python3.9/site-packages/torch_geometric/warnings.py:11: UserWarning: The usage of `scatter(reduce='max')` can be accelerated via the 'torch-scatter' package, but it was not found\n",
      "  warnings.warn(message)\n"
     ]
    },
    {
     "ename": "KeyboardInterrupt",
     "evalue": "",
     "output_type": "error",
     "traceback": [
      "\u001b[0;31m---------------------------------------------------------------------------\u001b[0m",
      "\u001b[0;31mKeyboardInterrupt\u001b[0m                         Traceback (most recent call last)",
      "Cell \u001b[0;32mIn[18], line 12\u001b[0m\n\u001b[1;32m      9\u001b[0m num_folds \u001b[38;5;241m=\u001b[39m \u001b[38;5;241m5\u001b[39m\n\u001b[1;32m     10\u001b[0m num_epochs \u001b[38;5;241m=\u001b[39m \u001b[38;5;241m40\u001b[39m\n\u001b[0;32m---> 12\u001b[0m results \u001b[38;5;241m=\u001b[39m \u001b[43mcross_validation_and_sensitivity_analysis\u001b[49m\u001b[43m(\u001b[49m\u001b[43mdataset\u001b[49m\u001b[43m,\u001b[49m\u001b[43m \u001b[49m\u001b[43mnum_features\u001b[49m\u001b[43m,\u001b[49m\u001b[43m \u001b[49m\u001b[43mlatent_dim\u001b[49m\u001b[43m,\u001b[49m\u001b[43m \u001b[49m\u001b[43mnum_classes\u001b[49m\u001b[43m,\u001b[49m\u001b[43m \u001b[49m\u001b[43mnum_folds\u001b[49m\u001b[43m,\u001b[49m\u001b[43m \u001b[49m\u001b[43mnum_epochs\u001b[49m\u001b[43m,\u001b[49m\u001b[43m \u001b[49m\u001b[43mlearning_rates\u001b[49m\u001b[43m,\u001b[49m\u001b[43m \u001b[49m\u001b[43mweight_decays\u001b[49m\u001b[43m)\u001b[49m\n\u001b[1;32m     13\u001b[0m \u001b[38;5;66;03m# results, train_auc_all, val_auc_all = cross_validation_and_sensitivity_analysis(dataset, num_features, latent_dim, num_classes)\u001b[39;00m\n\u001b[1;32m     14\u001b[0m \u001b[38;5;66;03m# for lr, wd, metrics in results:\u001b[39;00m\n\u001b[1;32m     15\u001b[0m \u001b[38;5;66;03m#     print(f\"LR: {lr}, WD: {wd}, Metrics: {metrics}\")\u001b[39;00m\n",
      "Cell \u001b[0;32mIn[17], line 46\u001b[0m, in \u001b[0;36mcross_validation_and_sensitivity_analysis\u001b[0;34m(dataset, num_features, latent_dim, num_classes, num_folds, num_epochs, learning_rates, weight_decays)\u001b[0m\n\u001b[1;32m     43\u001b[0m \u001b[38;5;28mprint\u001b[39m(\u001b[38;5;124m'\u001b[39m\u001b[38;5;124m----Fold\u001b[39m\u001b[38;5;124m'\u001b[39m, fold, lr, wd)\n\u001b[1;32m     45\u001b[0m \u001b[38;5;28;01mfor\u001b[39;00m epoch \u001b[38;5;129;01min\u001b[39;00m \u001b[38;5;28mrange\u001b[39m(num_epochs):\n\u001b[0;32m---> 46\u001b[0m     train_loss, train_acc, train_f1, train_auc, train_labels, train_preds  \u001b[38;5;241m=\u001b[39m \u001b[43mtrain_gpu\u001b[49m\u001b[43m(\u001b[49m\u001b[43mmodel\u001b[49m\u001b[43m,\u001b[49m\u001b[43m \u001b[49m\u001b[43mtrain_loader\u001b[49m\u001b[43m,\u001b[49m\u001b[43m \u001b[49m\u001b[43moptimizer\u001b[49m\u001b[43m,\u001b[49m\u001b[43m \u001b[49m\u001b[43mcriterion\u001b[49m\u001b[43m,\u001b[49m\u001b[43m \u001b[49m\u001b[43mdevice\u001b[49m\u001b[43m)\u001b[49m\n\u001b[1;32m     47\u001b[0m     val_loss, val_acc, val_f1, val_auc, val_labels, val_preds, val_probs \u001b[38;5;241m=\u001b[39m valid_gpu(model, val_loader, criterion, device)\n\u001b[1;32m     48\u001b[0m     \u001b[38;5;28mprint\u001b[39m(\u001b[38;5;124mf\u001b[39m\u001b[38;5;124m'\u001b[39m\u001b[38;5;124mEpoch \u001b[39m\u001b[38;5;132;01m{\u001b[39;00mepoch\u001b[38;5;250m \u001b[39m\u001b[38;5;241m+\u001b[39m\u001b[38;5;250m \u001b[39m\u001b[38;5;241m1\u001b[39m\u001b[38;5;132;01m}\u001b[39;00m\u001b[38;5;124m/\u001b[39m\u001b[38;5;132;01m{\u001b[39;00mnum_epochs\u001b[38;5;132;01m}\u001b[39;00m\u001b[38;5;124m, Train Loss: \u001b[39m\u001b[38;5;132;01m{\u001b[39;00mtrain_loss\u001b[38;5;132;01m:\u001b[39;00m\u001b[38;5;124m.4f\u001b[39m\u001b[38;5;132;01m}\u001b[39;00m\u001b[38;5;124m, Acc: \u001b[39m\u001b[38;5;132;01m{\u001b[39;00mtrain_acc\u001b[38;5;132;01m:\u001b[39;00m\u001b[38;5;124m.4f\u001b[39m\u001b[38;5;132;01m}\u001b[39;00m\u001b[38;5;124m, F1: \u001b[39m\u001b[38;5;132;01m{\u001b[39;00mtrain_f1\u001b[38;5;132;01m:\u001b[39;00m\u001b[38;5;124m.4f\u001b[39m\u001b[38;5;132;01m}\u001b[39;00m\u001b[38;5;124m, AUC: \u001b[39m\u001b[38;5;132;01m{\u001b[39;00mtrain_auc\u001b[38;5;132;01m:\u001b[39;00m\u001b[38;5;124m.4f\u001b[39m\u001b[38;5;132;01m}\u001b[39;00m\u001b[38;5;124m'\u001b[39m)\n",
      "Cell \u001b[0;32mIn[8], line 19\u001b[0m, in \u001b[0;36mtrain_gpu\u001b[0;34m(model, train_loader, optimizer, criterion, device)\u001b[0m\n\u001b[1;32m     16\u001b[0m output \u001b[38;5;241m=\u001b[39m model(data_5x, data_10x, data_20x)\n\u001b[1;32m     17\u001b[0m loss \u001b[38;5;241m=\u001b[39m criterion(output, data_5x\u001b[38;5;241m.\u001b[39my\u001b[38;5;241m.\u001b[39mlong())\n\u001b[0;32m---> 19\u001b[0m \u001b[43mloss\u001b[49m\u001b[38;5;241;43m.\u001b[39;49m\u001b[43mbackward\u001b[49m\u001b[43m(\u001b[49m\u001b[43m)\u001b[49m\n\u001b[1;32m     20\u001b[0m optimizer\u001b[38;5;241m.\u001b[39mstep()\n\u001b[1;32m     21\u001b[0m total_loss \u001b[38;5;241m+\u001b[39m\u001b[38;5;241m=\u001b[39m loss\u001b[38;5;241m.\u001b[39mitem()\n",
      "File \u001b[0;32m~/anaconda3/envs/gigapath/lib/python3.9/site-packages/torch/_tensor.py:487\u001b[0m, in \u001b[0;36mTensor.backward\u001b[0;34m(self, gradient, retain_graph, create_graph, inputs)\u001b[0m\n\u001b[1;32m    477\u001b[0m \u001b[38;5;28;01mif\u001b[39;00m has_torch_function_unary(\u001b[38;5;28mself\u001b[39m):\n\u001b[1;32m    478\u001b[0m     \u001b[38;5;28;01mreturn\u001b[39;00m handle_torch_function(\n\u001b[1;32m    479\u001b[0m         Tensor\u001b[38;5;241m.\u001b[39mbackward,\n\u001b[1;32m    480\u001b[0m         (\u001b[38;5;28mself\u001b[39m,),\n\u001b[0;32m   (...)\u001b[0m\n\u001b[1;32m    485\u001b[0m         inputs\u001b[38;5;241m=\u001b[39minputs,\n\u001b[1;32m    486\u001b[0m     )\n\u001b[0;32m--> 487\u001b[0m \u001b[43mtorch\u001b[49m\u001b[38;5;241;43m.\u001b[39;49m\u001b[43mautograd\u001b[49m\u001b[38;5;241;43m.\u001b[39;49m\u001b[43mbackward\u001b[49m\u001b[43m(\u001b[49m\n\u001b[1;32m    488\u001b[0m \u001b[43m    \u001b[49m\u001b[38;5;28;43mself\u001b[39;49m\u001b[43m,\u001b[49m\u001b[43m \u001b[49m\u001b[43mgradient\u001b[49m\u001b[43m,\u001b[49m\u001b[43m \u001b[49m\u001b[43mretain_graph\u001b[49m\u001b[43m,\u001b[49m\u001b[43m \u001b[49m\u001b[43mcreate_graph\u001b[49m\u001b[43m,\u001b[49m\u001b[43m \u001b[49m\u001b[43minputs\u001b[49m\u001b[38;5;241;43m=\u001b[39;49m\u001b[43minputs\u001b[49m\n\u001b[1;32m    489\u001b[0m \u001b[43m\u001b[49m\u001b[43m)\u001b[49m\n",
      "File \u001b[0;32m~/anaconda3/envs/gigapath/lib/python3.9/site-packages/torch/autograd/__init__.py:200\u001b[0m, in \u001b[0;36mbackward\u001b[0;34m(tensors, grad_tensors, retain_graph, create_graph, grad_variables, inputs)\u001b[0m\n\u001b[1;32m    195\u001b[0m     retain_graph \u001b[38;5;241m=\u001b[39m create_graph\n\u001b[1;32m    197\u001b[0m \u001b[38;5;66;03m# The reason we repeat same the comment below is that\u001b[39;00m\n\u001b[1;32m    198\u001b[0m \u001b[38;5;66;03m# some Python versions print out the first line of a multi-line function\u001b[39;00m\n\u001b[1;32m    199\u001b[0m \u001b[38;5;66;03m# calls in the traceback and some print out the last line\u001b[39;00m\n\u001b[0;32m--> 200\u001b[0m \u001b[43mVariable\u001b[49m\u001b[38;5;241;43m.\u001b[39;49m\u001b[43m_execution_engine\u001b[49m\u001b[38;5;241;43m.\u001b[39;49m\u001b[43mrun_backward\u001b[49m\u001b[43m(\u001b[49m\u001b[43m  \u001b[49m\u001b[38;5;66;43;03m# Calls into the C++ engine to run the backward pass\u001b[39;49;00m\n\u001b[1;32m    201\u001b[0m \u001b[43m    \u001b[49m\u001b[43mtensors\u001b[49m\u001b[43m,\u001b[49m\u001b[43m \u001b[49m\u001b[43mgrad_tensors_\u001b[49m\u001b[43m,\u001b[49m\u001b[43m \u001b[49m\u001b[43mretain_graph\u001b[49m\u001b[43m,\u001b[49m\u001b[43m \u001b[49m\u001b[43mcreate_graph\u001b[49m\u001b[43m,\u001b[49m\u001b[43m \u001b[49m\u001b[43minputs\u001b[49m\u001b[43m,\u001b[49m\n\u001b[1;32m    202\u001b[0m \u001b[43m    \u001b[49m\u001b[43mallow_unreachable\u001b[49m\u001b[38;5;241;43m=\u001b[39;49m\u001b[38;5;28;43;01mTrue\u001b[39;49;00m\u001b[43m,\u001b[49m\u001b[43m \u001b[49m\u001b[43maccumulate_grad\u001b[49m\u001b[38;5;241;43m=\u001b[39;49m\u001b[38;5;28;43;01mTrue\u001b[39;49;00m\u001b[43m)\u001b[49m\n",
      "\u001b[0;31mKeyboardInterrupt\u001b[0m: "
     ]
    },
    {
     "ename": "",
     "evalue": "",
     "output_type": "error",
     "traceback": [
      "\u001b[1;31mThe Kernel crashed while executing code in the current cell or a previous cell. \n",
      "\u001b[1;31mPlease review the code in the cell(s) to identify a possible cause of the failure. \n",
      "\u001b[1;31mClick <a href='https://aka.ms/vscodeJupyterKernelCrash'>here</a> for more info. \n",
      "\u001b[1;31mView Jupyter <a href='command:jupyter.viewOutput'>log</a> for further details."
     ]
    }
   ],
   "source": [
    "dataset = data_list \n",
    "num_features = 1536\n",
    "latent_dim = 8\n",
    "num_classes = 2\n",
    "# learning_rates = [0.001, 0.0001]\n",
    "# weight_decays = [1e-3, 1e-4]\n",
    "learning_rates=[1e-4]\n",
    "weight_decays=[1e-3]\n",
    "num_folds = 5\n",
    "num_epochs = 40\n",
    "\n",
    "results = cross_validation_and_sensitivity_analysis(dataset, num_features, latent_dim, num_classes, num_folds, num_epochs, learning_rates, weight_decays)\n",
    "# results, train_auc_all, val_auc_all = cross_validation_and_sensitivity_analysis(dataset, num_features, latent_dim, num_classes)\n",
    "# for lr, wd, metrics in results:\n",
    "#     print(f\"LR: {lr}, WD: {wd}, Metrics: {metrics}\")"
   ]
  },
  {
   "cell_type": "code",
   "execution_count": null,
   "metadata": {},
   "outputs": [],
   "source": [
    "import torch\n",
    "import numpy as np\n",
    "from sklearn.model_selection import StratifiedKFold\n",
    "from torch.utils.data import Subset, DataLoader\n",
    "from GNN import MultiResolutionGraphModel\n",
    "from torch import nn\n",
    "\n",
    "def nested_cross_validation(dataset, num_features, latent_dim, num_classes, num_outer_folds=5, num_inner_folds=5, num_epochs=50, learning_rate=0.001, weight_decay=1e-5):\n",
    "    device = torch.device('cuda' if torch.cuda.is_available() else 'cpu')\n",
    "    torch.cuda.empty_cache()\n",
    "    \n",
    "    labels = np.array(responses)\n",
    "    indicators = np.array(indications)  # Assuming 'indicator' is an attribute\n",
    "    stratification_targets = indicators\n",
    "    outer_skf = StratifiedKFold(n_splits=num_outer_folds, shuffle=True, random_state=4)\n",
    "    results = []\n",
    "\n",
    "    for fold_outer, (train_val_idx, test_idx) in enumerate(outer_skf.split(np.zeros(len(stratification_targets)), stratification_targets)):\n",
    "        print('---', fold_outer)\n",
    "        train_val_subset = Subset(dataset, train_val_idx)\n",
    "        test_subset = Subset(dataset, test_idx)\n",
    "        train_val_loader = DataLoader(train_val_subset, batch_size=1, shuffle=True)\n",
    "        test_loader = DataLoader(test_subset, batch_size=1, shuffle=False)\n",
    "\n",
    "        inner_skf = StratifiedKFold(n_splits=num_inner_folds, shuffle=True, random_state=4)\n",
    "        best_model = None\n",
    "        best_val_score = float('-inf')\n",
    "        \n",
    "        for fold_inner, (train_idx, val_idx) in enumerate(inner_skf.split(np.zeros(len(train_val_idx)), stratification_targets[train_val_idx])):\n",
    "            print('---', fold_outer, fold_inner)\n",
    "            inner_train_subset = Subset(train_val_subset, train_idx)\n",
    "            inner_val_subset = Subset(train_val_subset, val_idx)\n",
    "            inner_train_loader = DataLoader(inner_train_subset, batch_size=1, shuffle=True)\n",
    "            inner_val_loader = DataLoader(inner_val_subset, batch_size=1, shuffle=False)\n",
    "\n",
    "            model = MultiResolutionGraphModel(num_features=num_features, latent_dim=latent_dim, num_classes=num_classes).to(device)\n",
    "\n",
    "            all_labels = torch.cat([data[0].y for data in inner_train_loader.dataset]).long()\n",
    "            class_counts = torch.bincount(all_labels)\n",
    "            class_weights = (1.0 / class_counts.float()).to(device)\n",
    "            criterion = nn.CrossEntropyLoss(weight=class_weights)\n",
    "            optimizer = torch.optim.Adam(model.parameters(), lr=learning_rate, weight_decay=weight_decay)\n",
    "            \n",
    "            single_inner_fold_res = []\n",
    "            for epoch in range(num_epochs):\n",
    "                train_loss, train_acc, train_f1, train_auc = train_gpu(model, inner_train_loader, optimizer, criterion, device)\n",
    "                val_loss, val_acc, val_f1, val_auc = valid_gpu(model, inner_val_loader, criterion, device)\n",
    "                single_inner_fold_res.append((train_loss, train_acc, train_f1, train_auc, val_loss, val_acc, val_f1, val_auc))\n",
    "            \n",
    "            avg_inner_fold_results = np.mean(single_inner_fold_res, axis=0)\n",
    "            val_score = avg_inner_fold_results[5]  # Assuming validation accuracy is the 6th element\n",
    "\n",
    "            if val_score > best_val_score:\n",
    "                best_val_score = val_score\n",
    "                best_model = model.state_dict()  # Save the best model state\n",
    "        \n",
    "        # Load the best model for the outer loop\n",
    "        model.load_state_dict(best_model)\n",
    "        \n",
    "        single_outer_fold_res = []\n",
    "        for epoch in range(num_epochs):\n",
    "            train_loss, train_acc, train_f1, train_auc = train_gpu(model, train_val_loader, optimizer, criterion, device)\n",
    "            test_loss, test_acc, test_f1, test_auc = valid_gpu(model, test_loader, criterion, device)\n",
    "            single_outer_fold_res.append((train_loss, train_acc, train_f1, train_auc, test_loss, test_acc, test_f1, test_auc))\n",
    "        \n",
    "        results.append(single_outer_fold_res)\n",
    "    \n",
    "    return results\n"
   ]
  }
 ],
 "metadata": {
  "kernelspec": {
   "display_name": "gigapath",
   "language": "python",
   "name": "python3"
  },
  "language_info": {
   "codemirror_mode": {
    "name": "ipython",
    "version": 3
   },
   "file_extension": ".py",
   "mimetype": "text/x-python",
   "name": "python",
   "nbconvert_exporter": "python",
   "pygments_lexer": "ipython3",
   "version": "3.9.18"
  }
 },
 "nbformat": 4,
 "nbformat_minor": 2
}
