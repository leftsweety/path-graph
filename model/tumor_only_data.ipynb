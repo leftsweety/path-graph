{
 "cells": [
  {
   "cell_type": "code",
   "execution_count": 1,
   "metadata": {},
   "outputs": [
    {
     "name": "stderr",
     "output_type": "stream",
     "text": [
      "/home/lizx43/anaconda3/envs/gigapath/lib/python3.9/site-packages/pandas/core/computation/expressions.py:21: UserWarning: Pandas requires version '2.8.4' or newer of 'numexpr' (version '2.7.3' currently installed).\n",
      "  from pandas.core.computation.check import NUMEXPR_INSTALLED\n"
     ]
    }
   ],
   "source": [
    "import pandas as pd\n",
    "import matplotlib.pyplot as plt \n",
    "import numpy as np\n",
    "import h5py\n",
    "import json\n",
    "import matplotlib as plt"
   ]
  },
  {
   "cell_type": "code",
   "execution_count": 2,
   "metadata": {},
   "outputs": [],
   "source": [
    "h5_dir_path = '../get_data/20240719/'\n",
    "data_sheet_dir_path = '../get_data/data_sheets/'"
   ]
  },
  {
   "cell_type": "code",
   "execution_count": 3,
   "metadata": {},
   "outputs": [],
   "source": [
    "image_id_res_df = pd.read_csv(data_sheet_dir_path+'image_id_res.csv')\n",
    "crc_df = image_id_res_df[image_id_res_df['cancer']=='CRC']"
   ]
  },
  {
   "cell_type": "code",
   "execution_count": 4,
   "metadata": {},
   "outputs": [
    {
     "name": "stdout",
     "output_type": "stream",
     "text": [
      "input_specific_metadata\n",
      "path5_version\n",
      "wsi_masks\n",
      "{1: 'buds and pdcs', 2: 'cancer', 3: 'cancer gland lumen', 4: 'cancer stroma', 5: 'mucin', 6: 'necrosis', 7: 'other tissue', 8: 'artifact', 9: 'usable tissue'}\n",
      "{1: 'cancer', 2: 'degenerating', 3: 'endothelial', 4: 'eosinophil', 5: 'fibroblast', 6: 'lymphocyte', 7: 'macrophage', 8: 'neutrophil', 9: 'other tissue', 10: 'plasma', 11: 'unclassified'}\n",
      "{1: '#0062ff', 2: '#d500fa', 3: '#7afff6', 4: '#fbb830', 5: '#0f5636', 6: '#000000', 7: '#3878af', 8: '#e8f944', 9: '#a0a0a0'}\n",
      "{1: '#f93a00', 2: '#382709', 3: '#0f5636', 4: '#7afff6', 5: '#fb8741', 6: '#36b279', 7: '#00afe7', 8: '#cbe589', 9: '#382709', 10: '#ffeeac', 11: '#684915'}\n"
     ]
    }
   ],
   "source": [
    "HE_id=1067680\n",
    "with h5py.File(h5_dir_path+(str(int(HE_id)))+'/path5_mask.h5', 'r') as h5_file:\n",
    "    for data in h5_file:\n",
    "        print(data)\n",
    "    json_string = h5_file[\"wsi_masks\"][\"region_model_label_mappings\"][()]\n",
    "    label_map_str_keys = json.loads(json_string)\n",
    "    label_map = {int(index): label for index, label in label_map_str_keys.items()}\n",
    "    print(label_map)\n",
    "\n",
    "    json_string = h5_file[\"wsi_masks\"][\"cell_model_label_mappings\"][()]    \n",
    "    label_map_str_keys = json.loads(json_string)\n",
    "    label_map = {int(index): label for index, label in label_map_str_keys.items()}\n",
    "    print(label_map)\n",
    "\n",
    "    json_string = h5_file[\"wsi_masks\"][\"region_color_mappings\"][()]\n",
    "    color_map_str_keys = json.loads(json_string)\n",
    "    color_map = {int(index): color for index, color in color_map_str_keys.items()}\n",
    "    print(color_map)\n",
    "\n",
    "    json_string = h5_file[\"wsi_masks\"][\"cell_color_mappings\"][()]\n",
    "    color_map_str_keys = json.loads(json_string)\n",
    "    color_map = {int(index): color for index, color in color_map_str_keys.items()}\n",
    "    print(color_map)"
   ]
  },
  {
   "cell_type": "code",
   "execution_count": 5,
   "metadata": {},
   "outputs": [],
   "source": [
    "tile_df_dir = '../patch_embeddings/20Xtile_w_64cluster_fix.h5'\n",
    "tile20_embeding_df = pd.read_hdf(tile_df_dir)"
   ]
  },
  {
   "cell_type": "code",
   "execution_count": 6,
   "metadata": {},
   "outputs": [],
   "source": [
    "import cv2\n",
    "import numpy as np\n",
    "\n",
    "def scale_mask(mask, scale_factor):\n",
    "    height, width = mask.shape\n",
    "    new_height = int(height * scale_factor)\n",
    "    new_width = int(width * scale_factor)\n",
    "\n",
    "    # Resize the mask using nearest-neighbor interpolation\n",
    "    scaled_mask = cv2.resize(mask, (new_width, new_height), interpolation=cv2.INTER_NEAREST)\n",
    "    \n",
    "    return scaled_mask"
   ]
  },
  {
   "cell_type": "code",
   "execution_count": 7,
   "metadata": {},
   "outputs": [],
   "source": [
    "def find_tumor_mask(id):\n",
    "    HE_id = list(crc_df[crc_df['images_id']==id].HE_id)[0]\n",
    "    h5_file =  h5py.File(h5_dir_path+(str(int(HE_id)))+'/path5_mask.h5', 'r')\n",
    "    mask_l2_1 = np.array(h5_file[\"wsi_masks\"]['predicted_region_mask_l2_1'])\n",
    "    mask_l2_2 = np.array(h5_file[\"wsi_masks\"]['predicted_region_mask_l2_2'])\n",
    "    mask_l2_3 = np.array(h5_file[\"wsi_masks\"]['predicted_region_mask_l2_3'])\n",
    "    mask_l2_4 = np.array(h5_file[\"wsi_masks\"]['predicted_region_mask_l2_4'])\n",
    "    mask_l2_5 = np.array(h5_file[\"wsi_masks\"]['predicted_region_mask_l2_5'])\n",
    "    matrices = [mask_l2_1, mask_l2_2, mask_l2_3, mask_l2_4, mask_l2_5]\n",
    "    merged_matrix = np.zeros_like(matrices[0], dtype=int)\n",
    "    for matrix in matrices:\n",
    "        merged_matrix = np.logical_or(merged_matrix, matrix)\n",
    "    # Convert the boolean result to integer (0 and 1)\n",
    "    merged_matrix = merged_matrix.astype(int)\n",
    "    return merged_matrix\n"
   ]
  },
  {
   "cell_type": "code",
   "execution_count": 8,
   "metadata": {},
   "outputs": [],
   "source": [
    "def check_mask_area(mask, x, y, dis=512):\n",
    "    # Extract the 512x512 area\n",
    "    area = mask[y:y+dis, x:x+dis]\n",
    "\n",
    "    # Calculate the percentage of 1s in the area\n",
    "    num_ones = np.sum(area)\n",
    "    total_values = area.size\n",
    "    percentage_ones = num_ones / total_values * 100\n",
    "\n",
    "    # Check if the percentage is greater than 8%\n",
    "    if percentage_ones > 8:\n",
    "        return \"Yes\"\n",
    "    else:\n",
    "        return \"No\""
   ]
  },
  {
   "cell_type": "code",
   "execution_count": 9,
   "metadata": {},
   "outputs": [
    {
     "name": "stdout",
     "output_type": "stream",
     "text": [
      "225441 --- done ---\n",
      "327510 --- done ---\n",
      "225359 --- done ---\n",
      "327395 --- done ---\n",
      "189143 --- done ---\n",
      "225430 --- done ---\n",
      "225322 --- done ---\n",
      "327370 --- done ---\n",
      "225485 --- done ---\n",
      "222486 --- done ---\n",
      "221770 --- done ---\n",
      "203809 --- done ---\n",
      "264559 --- done ---\n",
      "203067 --- done ---\n",
      "225391 --- done ---\n",
      "157821 --- done ---\n",
      "225324 --- done ---\n",
      "225427 --- done ---\n",
      "230129 --- done ---\n",
      "189149 --- done ---\n",
      "327378 --- done ---\n",
      "221082 --- done ---\n",
      "327583 --- done ---\n",
      "225421 --- done ---\n",
      "235072 --- done ---\n",
      "225418 --- done ---\n",
      "327620 --- done ---\n",
      "220795 --- done ---\n",
      "327550 --- done ---\n",
      "157820 --- done ---\n",
      "327237 --- done ---\n",
      "225353 --- done ---\n",
      "220789 --- done ---\n",
      "225342 --- done ---\n",
      "225488 --- done ---\n",
      "264584 --- done ---\n",
      "189137 --- done ---\n",
      "196020 --- done ---\n",
      "225467 --- done ---\n",
      "225365 --- done ---\n",
      "222418 --- done ---\n",
      "133574 --- done ---\n",
      "196026 --- done ---\n",
      "133598 --- done ---\n",
      "203815 --- done ---\n",
      "327299 --- done ---\n",
      "234976 --- done ---\n",
      "225376 --- done ---\n",
      "234964 --- done ---\n",
      "133580 --- done ---\n",
      "264578 --- done ---\n",
      "203818 --- done ---\n",
      "234967 --- done ---\n"
     ]
    },
    {
     "name": "stderr",
     "output_type": "stream",
     "text": [
      "/tmp/ipykernel_581994/2307522287.py:8: RuntimeWarning: invalid value encountered in scalar divide\n",
      "  percentage_ones = num_ones / total_values * 100\n"
     ]
    },
    {
     "name": "stdout",
     "output_type": "stream",
     "text": [
      "234970 --- done ---\n",
      "222405 --- done ---\n",
      "196041 --- done ---\n",
      "203812 --- done ---\n",
      "225339 --- done ---\n",
      "221079 --- done ---\n",
      "225476 --- done ---\n",
      "157782 --- done ---\n",
      "221085 --- done ---\n",
      "157804 --- done ---\n",
      "133601 --- done ---\n",
      "189131 --- done ---\n",
      "225313 --- done ---\n",
      "264553 --- done ---\n",
      "133589 --- done ---\n",
      "133565 --- done ---\n",
      "225379 --- done ---\n",
      "203803 --- done ---\n",
      "220767 --- done ---\n",
      "337105 --- done ---\n",
      "234973 --- done ---\n",
      "264547 --- done ---\n",
      "225394 --- done ---\n",
      "327240 --- done ---\n",
      "220754 --- done ---\n",
      "235023 --- done ---\n",
      "264568 --- done ---\n",
      "225370 --- done ---\n",
      "327601 --- done ---\n",
      "225415 --- done ---\n",
      "234990 --- done ---\n",
      "225455 --- done ---\n",
      "225327 --- done ---\n",
      "220745 --- done ---\n",
      "222423 --- done ---\n",
      "203821 --- done ---\n",
      "225482 --- done ---\n",
      "225433 --- done ---\n",
      "203806 --- done ---\n",
      "327207 --- done ---\n",
      "327658 --- done ---\n",
      "225494 --- done ---\n",
      "225470 --- done ---\n",
      "133592 --- done ---\n",
      "133610 --- done ---\n",
      "157756 --- done ---\n",
      "196038 --- done ---\n",
      "221090 --- done ---\n",
      "327392 --- done ---\n",
      "225452 --- done ---\n",
      "225307 --- done ---\n"
     ]
    }
   ],
   "source": [
    "crc_tile_df = tile20_embeding_df[tile20_embeding_df['data_source']=='CRC']\n",
    "if_tumor = []\n",
    "for image_id in list(crc_tile_df.ids.unique()):\n",
    "    mask_scaled = None\n",
    "    mask = find_tumor_mask(int(image_id))\n",
    "    mask_scaled = scale_mask(mask, 16)\n",
    "    id_df = crc_tile_df[crc_tile_df['ids']==image_id]\n",
    "    for row in id_df.iterrows():\n",
    "        row=row[1]\n",
    "        coord1 = int(row['coord1'])\n",
    "        coord2 = int(row['coord2'])\n",
    "        if_tumor.append(check_mask_area(mask_scaled, coord1, coord2, 512))\n",
    "    print(image_id, '--- done ---')"
   ]
  },
  {
   "cell_type": "code",
   "execution_count": 10,
   "metadata": {},
   "outputs": [
    {
     "name": "stderr",
     "output_type": "stream",
     "text": [
      "/tmp/ipykernel_581994/1855060882.py:1: SettingWithCopyWarning: \n",
      "A value is trying to be set on a copy of a slice from a DataFrame.\n",
      "Try using .loc[row_indexer,col_indexer] = value instead\n",
      "\n",
      "See the caveats in the documentation: https://pandas.pydata.org/pandas-docs/stable/user_guide/indexing.html#returning-a-view-versus-a-copy\n",
      "  crc_tile_df['is_tumor']= if_tumor\n",
      "/tmp/ipykernel_581994/1855060882.py:2: PerformanceWarning: \n",
      "your performance may suffer as PyTables will pickle object types that it cannot\n",
      "map directly to c-types [inferred_type->mixed-integer,key->axis0] [items->None]\n",
      "\n",
      "  crc_tile_df.to_hdf('20x_crc_embeddings.h5', key='data')\n",
      "/tmp/ipykernel_581994/1855060882.py:2: PerformanceWarning: \n",
      "your performance may suffer as PyTables will pickle object types that it cannot\n",
      "map directly to c-types [inferred_type->mixed-integer,key->block0_items] [items->None]\n",
      "\n",
      "  crc_tile_df.to_hdf('20x_crc_embeddings.h5', key='data')\n"
     ]
    }
   ],
   "source": [
    "crc_tile_df['is_tumor']= if_tumor\n",
    "crc_tile_df.to_hdf('20x_crc_embeddings.h5', key='data')"
   ]
  },
  {
   "cell_type": "code",
   "execution_count": 11,
   "metadata": {},
   "outputs": [
    {
     "data": {
      "text/plain": [
       "<matplotlib.image.AxesImage at 0x7a28eb9e5fd0>"
      ]
     },
     "execution_count": 11,
     "metadata": {},
     "output_type": "execute_result"
    },
    {
     "data": {
      "image/png": "[encoded data removed]",
      "text/plain": [
       "<Figure size 640x480 with 1 Axes>"
      ]
     },
     "metadata": {},
     "output_type": "display_data"
    }
   ],
   "source": [
    "import matplotlib.pyplot as plt \n",
    "\n",
    "HE_id = list(crc_df[crc_df['images_id']==225441].HE_id)[0]\n",
    "h5_file = h5py.File(h5_dir_path+(str(int(HE_id)))+'/path5_mask.h5', 'r')\n",
    "plt.imshow(h5_file[\"wsi_masks\"]['predicted_region_mask_l2_4'])"
   ]
  },
  {
   "cell_type": "code",
   "execution_count": 12,
   "metadata": {},
   "outputs": [
    {
     "name": "stdout",
     "output_type": "stream",
     "text": [
      "2\n",
      "2\n",
      "2\n",
      "2\n",
      "2\n",
      "2\n",
      "2\n",
      "2\n",
      "2\n",
      "2\n",
      "2\n",
      "2\n",
      "2\n",
      "2\n",
      "2\n",
      "2\n",
      "2\n",
      "2\n",
      "2\n",
      "2\n",
      "2\n",
      "2\n",
      "2\n",
      "2\n",
      "2\n",
      "2\n",
      "2\n",
      "2\n",
      "2\n",
      "2\n",
      "2\n",
      "2\n",
      "2\n",
      "2\n",
      "2\n",
      "2\n",
      "2\n",
      "2\n",
      "2\n",
      "2\n",
      "2\n",
      "2\n",
      "2\n",
      "2\n",
      "2\n",
      "2\n",
      "2\n",
      "2\n",
      "2\n",
      "2\n",
      "2\n",
      "2\n",
      "2\n",
      "2\n",
      "2\n",
      "2\n",
      "2\n",
      "2\n",
      "2\n",
      "2\n",
      "2\n",
      "2\n",
      "2\n",
      "2\n",
      "2\n",
      "2\n",
      "2\n",
      "2\n",
      "2\n",
      "2\n",
      "2\n",
      "2\n",
      "2\n",
      "2\n",
      "2\n",
      "2\n",
      "2\n",
      "2\n",
      "2\n",
      "2\n",
      "2\n",
      "2\n",
      "2\n",
      "2\n",
      "2\n",
      "2\n",
      "2\n",
      "2\n",
      "2\n",
      "2\n",
      "2\n",
      "2\n",
      "2\n",
      "2\n",
      "2\n",
      "2\n",
      "2\n",
      "2\n",
      "2\n",
      "2\n",
      "2\n",
      "2\n",
      "2\n",
      "2\n"
     ]
    }
   ],
   "source": [
    "import openslide\n",
    "import sys\n",
    "sys.path.append('..')\n",
    "slides_id_df = pd.read_csv('../get_data/data_sheets/image_id_res.csv')\n",
    "concentriq_image_dir = '/concentriq/'\n",
    "def print_level(image_path, magnification=20):\n",
    "    slide = openslide.OpenSlide(image_path)\n",
    "    level = slide.get_best_level_for_downsample(magnification)\n",
    "    print(level)\n",
    "\n",
    "\n",
    "for row in slides_id_df[slides_id_df['cancer']=='CRC'].iterrows():\n",
    "    row=row[1]\n",
    "    storageKey = row['storageKey']\n",
    "    image_path = concentriq_image_dir+storageKey\n",
    "    print_level(image_path)"
   ]
  }
 ],
 "metadata": {
  "kernelspec": {
   "display_name": "gigapath",
   "language": "python",
   "name": "python3"
  },
  "language_info": {
   "codemirror_mode": {
    "name": "ipython",
    "version": 3
   },
   "file_extension": ".py",
   "mimetype": "text/x-python",
   "name": "python",
   "nbconvert_exporter": "python",
   "pygments_lexer": "ipython3",
   "version": "3.9.18"
  }
 },
 "nbformat": 4,
 "nbformat_minor": 2
}
